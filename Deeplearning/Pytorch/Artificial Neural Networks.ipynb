{
 "cells": [
  {
   "cell_type": "code",
   "execution_count": 1,
   "id": "ae0c8549",
   "metadata": {
    "id": "ae0c8549"
   },
   "outputs": [],
   "source": [
    "import torch\n",
    "import torch.nn as nn "
   ]
  },
  {
   "cell_type": "markdown",
   "id": "1d0ae416",
   "metadata": {
    "id": "1d0ae416"
   },
   "source": [
    "### Activation Functions\n",
    "- NN without acivation functions can only seperate linear data (with a straight line)\n",
    "- Activation Functions are required to capture the non-linear trend\n",
    "- Some of the Activation functions are\n",
    "1. Sigmoid - ```(1/1+e^-x)```\n",
    "2. tanh - ```tanh(x)```\n",
    "3. ReLU - ```max(0, x)```\n",
    "4. Leaky ReLU - ```max(0.1x, x)```\n",
    "5. Maxout - ```max(W1^t * X + b1, W2^t * X + b2)``` - t = transpose\n",
    "6. ELU -  \n",
    "````{x                  x >= 0\n",
    "    {alpha(e^x - 1)     x < 0````"
   ]
  },
  {
   "cell_type": "code",
   "execution_count": null,
   "id": "1788f92f",
   "metadata": {
    "colab": {
     "base_uri": "https://localhost:8080/"
    },
    "id": "1788f92f",
    "outputId": "7844ed81-8af1-4785-ed34-5dfe6439da53"
   },
   "outputs": [
    {
     "name": "stdout",
     "output_type": "stream",
     "text": [
      "tensor([2., 0.])\n",
      "tensor([[  1,   0],\n",
      "        [  0, 200]])\n"
     ]
    }
   ],
   "source": [
    "# ReLU\n",
    "x = torch.tensor([2., -2.])\n",
    "relu = nn.ReLU()\n",
    "print(relu(x))\n",
    "\n",
    "y = torch.tensor([[1, -2], [-100, 200]])\n",
    "print(relu(y))"
   ]
  },
  {
   "cell_type": "markdown",
   "id": "d3ea2bc1",
   "metadata": {
    "id": "d3ea2bc1"
   },
   "source": [
    "![](nn.jpg)"
   ]
  },
  {
   "cell_type": "code",
   "execution_count": null,
   "id": "a8fbd08b",
   "metadata": {
    "colab": {
     "base_uri": "https://localhost:8080/"
    },
    "id": "a8fbd08b",
    "outputId": "786a83ff-aa89-4eba-9f9b-a081d76c9e7e"
   },
   "outputs": [
    {
     "name": "stdout",
     "output_type": "stream",
     "text": [
      "tensor([[1.0858, 1.4761]])\n"
     ]
    }
   ],
   "source": [
    "w1 = torch.rand(4,6)\n",
    "w2 = torch.rand(6,2)\n",
    "input_layer = torch.rand(1,4)\n",
    "relu = nn.ReLU()\n",
    "\n",
    "h1 = torch.matmul(input_layer, w1)\n",
    "h1_a = relu(h1)\n",
    "\n",
    "output_layer = torch.matmul(h1_a, w2)\n",
    "print(output_layer)"
   ]
  },
  {
   "cell_type": "markdown",
   "id": "3d24f031",
   "metadata": {
    "id": "3d24f031"
   },
   "source": [
    "### Loss Function\n",
    "- Initialize weights of NN with random numbers\n",
    "- Do a forward pass\n",
    "- Calculate loss (Single number)\n",
    "- Calculate gradients\n",
    "- Update weights according to the calculated gradients\n",
    "- Ex: for regression - Least squared loss (Distance between prediction and ground truth)\n",
    "- Ex: for classification - Softmax cross-entropy loss\n",
    "- For other problems, we have different loss functions\n",
    "- Loss function should be differentiable, else we would not be able to compute gradients\n",
    "- NOTE: More accurate the network, lesser will be the loss\n",
    "<br>\n",
    "\n",
    "### Softmax Cross-Entropy loss\n",
    "\n",
    "![](loss.PNG)"
   ]
  },
  {
   "cell_type": "code",
   "execution_count": null,
   "id": "e97f72d0",
   "metadata": {
    "colab": {
     "base_uri": "https://localhost:8080/"
    },
    "id": "e97f72d0",
    "outputId": "8109fe57-aa17-48b8-a8a1-448af4d64ed3"
   },
   "outputs": [
    {
     "name": "stdout",
     "output_type": "stream",
     "text": [
      "tensor(2.0404)\n"
     ]
    }
   ],
   "source": [
    "# CE loss in PyTorch\n",
    "logits = torch.tensor([[3.2, 5.1, -1.7]]) # Predicted scores\n",
    "ground_truth = torch.tensor([0])\n",
    "criterion = nn.CrossEntropyLoss()\n",
    "\n",
    "loss = criterion(logits, ground_truth)\n",
    "print(loss)"
   ]
  },
  {
   "cell_type": "code",
   "execution_count": null,
   "id": "b49682c9",
   "metadata": {
    "colab": {
     "base_uri": "https://localhost:8080/"
    },
    "id": "b49682c9",
    "outputId": "1c2910bf-beb8-4b7b-bdd4-7b03ba54a0c8"
   },
   "outputs": [
    {
     "name": "stdout",
     "output_type": "stream",
     "text": [
      "tensor(6.4161)\n"
     ]
    }
   ],
   "source": [
    "# Loss with Random tensors\n",
    "logits = torch.rand(1, 500)\n",
    "ground_truth = torch.tensor([246])\n",
    "criterion = nn.CrossEntropyLoss()\n",
    "\n",
    "loss = criterion(logits, ground_truth)\n",
    "print(loss)"
   ]
  },
  {
   "cell_type": "markdown",
   "id": "95d08383",
   "metadata": {
    "id": "95d08383"
   },
   "source": [
    "### Preparing a dataset in PyTorch"
   ]
  },
  {
   "cell_type": "code",
   "execution_count": null,
   "id": "90306b2c",
   "metadata": {
    "id": "90306b2c"
   },
   "outputs": [],
   "source": [
    "import torchvision\n",
    "import torch.utils.data\n",
    "import torchvision.transforms as transforms"
   ]
  },
  {
   "cell_type": "code",
   "execution_count": null,
   "id": "cf8887f7",
   "metadata": {
    "colab": {
     "base_uri": "https://localhost:8080/",
     "height": 184,
     "referenced_widgets": [
      "60a297ab855a4c61ac36a3e13f478499",
      "3dc5f9c630e7498a88eb047eb6522051",
      "b9474f4b8b394b6895631d441c0b03e2",
      "67790484778c4447baa52e22d4533784",
      "e792ce9c5c9c4017be8eb936e4b08a0a",
      "60c6467aaffc47b1a3107a020e9071f1",
      "229be822268b4c769dcfca12b34d9835",
      "7096f8e8d79c411aaf52c9ed67fe0e5c",
      "6056a80f23f94db48cd8218b368577a0",
      "627d533ea4284b0caac6afba04788e1a",
      "8be2fc21b19642528137e53f75f52b2f"
     ]
    },
    "id": "cf8887f7",
    "outputId": "1527cb8b-e573-4375-9391-2f95800fccf0"
   },
   "outputs": [
    {
     "name": "stdout",
     "output_type": "stream",
     "text": [
      "Downloading https://www.cs.toronto.edu/~kriz/cifar-10-python.tar.gz to ./data/cifar-10-python.tar.gz\n"
     ]
    },
    {
     "data": {
      "application/vnd.jupyter.widget-view+json": {
       "model_id": "60a297ab855a4c61ac36a3e13f478499",
       "version_major": 2,
       "version_minor": 0
      },
      "text/plain": [
       "  0%|          | 0/170498071 [00:00<?, ?it/s]"
      ]
     },
     "metadata": {},
     "output_type": "display_data"
    },
    {
     "name": "stdout",
     "output_type": "stream",
     "text": [
      "Extracting ./data/cifar-10-python.tar.gz to ./data\n",
      "Files already downloaded and verified\n"
     ]
    },
    {
     "name": "stderr",
     "output_type": "stream",
     "text": [
      "/usr/local/lib/python3.8/dist-packages/torch/utils/data/dataloader.py:554: UserWarning: This DataLoader will create 4 worker processes in total. Our suggested max number of worker in current system is 2, which is smaller than what this DataLoader is going to create. Please be aware that excessive worker creation might get DataLoader running slow or even freeze, lower the worker number to avoid potential slowness/freeze if necessary.\n",
      "  warnings.warn(_create_warning_msg(\n"
     ]
    }
   ],
   "source": [
    "transform = transforms.Compose([\n",
    "    transforms.ToTensor(),\n",
    "    transforms.Normalize((0.4914, 0.48216, 0.44653),\n",
    "                         (0.24703, 0.24349, 0.26159))\n",
    "])\n",
    "\n",
    "# Datasets and Dataloaders\n",
    "trainset = torchvision.datasets.CIFAR10(root='./data', train=True, \n",
    "                                        download=True, transform=transform)\n",
    "testset = torchvision.datasets.CIFAR10(root='./data', train=False,\n",
    "                                        download=True, transform=transform)\n",
    "\n",
    "trainloader = torch.utils.data.DataLoader(trainset, batch_size=32,\n",
    "                                         shuffle=True, num_workers=4)\n",
    "testloader = torch.utils.data.DataLoader(testset, batch_size=32,\n",
    "                                        shuffle=False, num_workers=4)"
   ]
  },
  {
   "cell_type": "code",
   "execution_count": null,
   "id": "60f57d05",
   "metadata": {
    "colab": {
     "base_uri": "https://localhost:8080/"
    },
    "id": "60f57d05",
    "outputId": "3de8f2e3-cc69-4e87-a00d-802b2392ea00"
   },
   "outputs": [
    {
     "name": "stdout",
     "output_type": "stream",
     "text": [
      "(10000, 32, 32, 3) (50000, 32, 32, 3)\n",
      "32\n",
      "<torch.utils.data.sampler.RandomSampler object at 0x7f823f1d73d0>\n"
     ]
    }
   ],
   "source": [
    "# Inspecting the dataloader\n",
    "print(testloader.dataset.data.shape, trainloader.dataset.data.shape)\n",
    "print(testloader.batch_size)\n",
    "print(trainloader.sampler)"
   ]
  },
  {
   "cell_type": "markdown",
   "id": "7918339a",
   "metadata": {
    "id": "7918339a"
   },
   "source": [
    "### Training Neural Networks\n",
    "#### Recipe for training NN\n",
    "1. Prepare the dataloaders\n",
    "2. Build a NN\n",
    "3. Loop:\n",
    "    - Do a forward pass\n",
    "    - Calculate loss\n",
    "    - Calculate gradients\n",
    "    - Update weights based on gradients ```weight -= weight * learning_rate```"
   ]
  },
  {
   "cell_type": "code",
   "execution_count": 1,
   "id": "13a1f6e7",
   "metadata": {
    "id": "13a1f6e7"
   },
   "outputs": [],
   "source": [
    "import torch\n",
    "import torch.nn as nn\n",
    "import torch.nn.functional as F\n",
    "import torch.utils.data\n",
    "import torchvision\n",
    "import torchvision.transforms as transforms"
   ]
  },
  {
   "cell_type": "code",
   "execution_count": 2,
   "id": "krQ1CIc8W1fA",
   "metadata": {
    "id": "krQ1CIc8W1fA"
   },
   "outputs": [],
   "source": [
    "# Transforms that are applied on dataset\n",
    "transform = transforms.Compose([\n",
    "    transforms.ToTensor(),\n",
    "    transforms.Normalize((0.1307), ((0.3081)))\n",
    "])"
   ]
  },
  {
   "cell_type": "code",
   "execution_count": 3,
   "id": "qY0GZxI6YCeY",
   "metadata": {
    "id": "qY0GZxI6YCeY"
   },
   "outputs": [],
   "source": [
    "# Download the MNIST Dataset\n",
    "trainset = torchvision.datasets.MNIST(root='mnist', train=True,\n",
    "                                      download=True, transform=transform)\n",
    "testset = torchvision.datasets.MNIST(root='mnist', train=False,\n",
    "                                     download=True, transform=transform)\n",
    "trainloader = torch.utils.data.DataLoader(trainset, batch_size=32,\n",
    "                                          shuffle=True, num_workers=2)\n",
    "testloader = torch.utils.data.DataLoader(testset, batch_size=32,\n",
    "                                         shuffle=False, num_workers=2)"
   ]
  },
  {
   "cell_type": "code",
   "execution_count": 50,
   "id": "KHxgEhYW3_Vu",
   "metadata": {
    "colab": {
     "base_uri": "https://localhost:8080/",
     "height": 282
    },
    "id": "KHxgEhYW3_Vu",
    "outputId": "73dcd475-7d83-4f12-97c1-4554a6f9486d"
   },
   "outputs": [
    {
     "name": "stdout",
     "output_type": "stream",
     "text": [
      "tensor(8)\n"
     ]
    },
    {
     "data": {
      "image/png": "[encoded data removed]",
      "text/plain": [
       "<Figure size 432x288 with 1 Axes>"
      ]
     },
     "metadata": {
      "needs_background": "light"
     },
     "output_type": "display_data"
    }
   ],
   "source": [
    "# Visualization of MNIST Dataset\n",
    "import matplotlib.pyplot as plt\n",
    "import numpy\n",
    "\n",
    "for i, data in enumerate(trainloader, 0):\n",
    "  images = data[0]\n",
    "  labels = data[1]\n",
    "\n",
    "image = np.squeeze(images[0])\n",
    "label = labels[0]\n",
    "plt.imshow(image)\n",
    "print(label)"
   ]
  },
  {
   "cell_type": "code",
   "execution_count": 4,
   "id": "TOLkyaANY9yP",
   "metadata": {
    "id": "TOLkyaANY9yP"
   },
   "outputs": [],
   "source": [
    "# Build the NN\n",
    "class NN(nn.Module):\n",
    "  def __init__(self):\n",
    "    super(NN, self).__init__()\n",
    "    self.l1 = nn.Linear(28*28*1, 200)\n",
    "    self.l2 = nn.Linear(200, 10)\n",
    "\n",
    "  def forward(self, x):\n",
    "    x = F.relu(self.l1(x))\n",
    "    x = self.l2(x)\n",
    "    return x"
   ]
  },
  {
   "cell_type": "code",
   "execution_count": 11,
   "id": "utVE3q6raKj-",
   "metadata": {
    "id": "utVE3q6raKj-"
   },
   "outputs": [],
   "source": [
    "# Training the NN\n",
    "model = NN()\n",
    "criterion = nn.CrossEntropyLoss()\n",
    "optimizer = torch.optim.Adam(model.parameters(), lr=3e-4)\n",
    "\n",
    "# Training Loop\n",
    "for batch_idx, data_target in enumerate(trainloader):\n",
    "  data = data_target[0] # image (digit)\n",
    "  target = data_target[1] # label\n",
    "  # put images into vectors\n",
    "  # A [2,2,2,2] matrix becomes [1,16] vector of dim = 2\n",
    "  data = data.view(-1, 28*28) # Flattens and changes the dimensions to [1*n]\n",
    "\n",
    "  # Zero the parameter gradients - zero_grad() so not to accumulate gradients\n",
    "  # from the previous iterations\n",
    "  optimizer.zero_grad()\n",
    "\n",
    "  # Forward + Backward + Optimize\n",
    "\n",
    "  # Complete a forward pass\n",
    "  output = model(data)\n",
    "  # Compute loss, gradients and update weights\n",
    "  loss = criterion(output, target)\n",
    "  loss.backward()\n",
    "  # Change weights\n",
    "  optimizer.step()"
   ]
  },
  {
   "cell_type": "code",
   "execution_count": 98,
   "id": "FlbIlYAqxsLh",
   "metadata": {
    "colab": {
     "base_uri": "https://localhost:8080/"
    },
    "id": "FlbIlYAqxsLh",
    "outputId": "e063d3a8-a233-4b3d-a471-66ff556e47bb"
   },
   "outputs": [
    {
     "name": "stdout",
     "output_type": "stream",
     "text": [
      "Testing Accuracy: 95.29\n"
     ]
    }
   ],
   "source": [
    "# Set the model to eval mode (evaluation/test)\n",
    "model.eval()\n",
    "total = correct = 0\n",
    "\n",
    "for i, data in enumerate(testloader, 0):\n",
    "  inputs, labels = data\n",
    "  inputs = inputs.view(-1, 28*28*1)\n",
    "\n",
    "  # Forward pass to get the predictions\n",
    "  outputs = model(inputs)\n",
    "  # print(outputs.data)\n",
    "  _, outputs = torch.max(outputs, 1) # Select Max probability from every output(row) \n",
    "  total += labels.size(0)\n",
    "  correct += (outputs == labels).sum().item() # Compare with ground truth\n",
    "print(\"Testing Accuracy: {}\".format(100 * correct / total))"
   ]
  }
 ],
 "metadata": {
  "colab": {
   "provenance": []
  },
  "kernelspec": {
   "display_name": "Python 3 (ipykernel)",
   "language": "python",
   "name": "python3"
  },
  "language_info": {
   "codemirror_mode": {
    "name": "ipython",
    "version": 3
   },
   "file_extension": ".py",
   "mimetype": "text/x-python",
   "name": "python",
   "nbconvert_exporter": "python",
   "pygments_lexer": "ipython3",
   "version": "3.10.6"
  },
  "widgets": {
   "application/vnd.jupyter.widget-state+json": {
    "229be822268b4c769dcfca12b34d9835": {
     "model_module": "@jupyter-widgets/controls",
     "model_module_version": "1.5.0",
     "model_name": "DescriptionStyleModel",
     "state": {
      "_model_module": "@jupyter-widgets/controls",
      "_model_module_version": "1.5.0",
      "_model_name": "DescriptionStyleModel",
      "_view_count": null,
      "_view_module": "@jupyter-widgets/base",
      "_view_module_version": "1.2.0",
      "_view_name": "StyleView",
      "description_width": ""
     }
    },
    "3dc5f9c630e7498a88eb047eb6522051": {
     "model_module": "@jupyter-widgets/controls",
     "model_module_version": "1.5.0",
     "model_name": "HTMLModel",
     "state": {
      "_dom_classes": [],
      "_model_module": "@jupyter-widgets/controls",
      "_model_module_version": "1.5.0",
      "_model_name": "HTMLModel",
      "_view_count": null,
      "_view_module": "@jupyter-widgets/controls",
      "_view_module_version": "1.5.0",
      "_view_name": "HTMLView",
      "description": "",
      "description_tooltip": null,
      "layout": "IPY_MODEL_60c6467aaffc47b1a3107a020e9071f1",
      "placeholder": "​",
      "style": "IPY_MODEL_229be822268b4c769dcfca12b34d9835",
      "value": "100%"
     }
    },
    "6056a80f23f94db48cd8218b368577a0": {
     "model_module": "@jupyter-widgets/controls",
     "model_module_version": "1.5.0",
     "model_name": "ProgressStyleModel",
     "state": {
      "_model_module": "@jupyter-widgets/controls",
      "_model_module_version": "1.5.0",
      "_model_name": "ProgressStyleModel",
      "_view_count": null,
      "_view_module": "@jupyter-widgets/base",
      "_view_module_version": "1.2.0",
      "_view_name": "StyleView",
      "bar_color": null,
      "description_width": ""
     }
    },
    "60a297ab855a4c61ac36a3e13f478499": {
     "model_module": "@jupyter-widgets/controls",
     "model_module_version": "1.5.0",
     "model_name": "HBoxModel",
     "state": {
      "_dom_classes": [],
      "_model_module": "@jupyter-widgets/controls",
      "_model_module_version": "1.5.0",
      "_model_name": "HBoxModel",
      "_view_count": null,
      "_view_module": "@jupyter-widgets/controls",
      "_view_module_version": "1.5.0",
      "_view_name": "HBoxView",
      "box_style": "",
      "children": [
       "IPY_MODEL_3dc5f9c630e7498a88eb047eb6522051",
       "IPY_MODEL_b9474f4b8b394b6895631d441c0b03e2",
       "IPY_MODEL_67790484778c4447baa52e22d4533784"
      ],
      "layout": "IPY_MODEL_e792ce9c5c9c4017be8eb936e4b08a0a"
     }
    },
    "60c6467aaffc47b1a3107a020e9071f1": {
     "model_module": "@jupyter-widgets/base",
     "model_module_version": "1.2.0",
     "model_name": "LayoutModel",
     "state": {
      "_model_module": "@jupyter-widgets/base",
      "_model_module_version": "1.2.0",
      "_model_name": "LayoutModel",
      "_view_count": null,
      "_view_module": "@jupyter-widgets/base",
      "_view_module_version": "1.2.0",
      "_view_name": "LayoutView",
      "align_content": null,
      "align_items": null,
      "align_self": null,
      "border": null,
      "bottom": null,
      "display": null,
      "flex": null,
      "flex_flow": null,
      "grid_area": null,
      "grid_auto_columns": null,
      "grid_auto_flow": null,
      "grid_auto_rows": null,
      "grid_column": null,
      "grid_gap": null,
      "grid_row": null,
      "grid_template_areas": null,
      "grid_template_columns": null,
      "grid_template_rows": null,
      "height": null,
      "justify_content": null,
      "justify_items": null,
      "left": null,
      "margin": null,
      "max_height": null,
      "max_width": null,
      "min_height": null,
      "min_width": null,
      "object_fit": null,
      "object_position": null,
      "order": null,
      "overflow": null,
      "overflow_x": null,
      "overflow_y": null,
      "padding": null,
      "right": null,
      "top": null,
      "visibility": null,
      "width": null
     }
    },
    "627d533ea4284b0caac6afba04788e1a": {
     "model_module": "@jupyter-widgets/base",
     "model_module_version": "1.2.0",
     "model_name": "LayoutModel",
     "state": {
      "_model_module": "@jupyter-widgets/base",
      "_model_module_version": "1.2.0",
      "_model_name": "LayoutModel",
      "_view_count": null,
      "_view_module": "@jupyter-widgets/base",
      "_view_module_version": "1.2.0",
      "_view_name": "LayoutView",
      "align_content": null,
      "align_items": null,
      "align_self": null,
      "border": null,
      "bottom": null,
      "display": null,
      "flex": null,
      "flex_flow": null,
      "grid_area": null,
      "grid_auto_columns": null,
      "grid_auto_flow": null,
      "grid_auto_rows": null,
      "grid_column": null,
      "grid_gap": null,
      "grid_row": null,
      "grid_template_areas": null,
      "grid_template_columns": null,
      "grid_template_rows": null,
      "height": null,
      "justify_content": null,
      "justify_items": null,
      "left": null,
      "margin": null,
      "max_height": null,
      "max_width": null,
      "min_height": null,
      "min_width": null,
      "object_fit": null,
      "object_position": null,
      "order": null,
      "overflow": null,
      "overflow_x": null,
      "overflow_y": null,
      "padding": null,
      "right": null,
      "top": null,
      "visibility": null,
      "width": null
     }
    },
    "67790484778c4447baa52e22d4533784": {
     "model_module": "@jupyter-widgets/controls",
     "model_module_version": "1.5.0",
     "model_name": "HTMLModel",
     "state": {
      "_dom_classes": [],
      "_model_module": "@jupyter-widgets/controls",
      "_model_module_version": "1.5.0",
      "_model_name": "HTMLModel",
      "_view_count": null,
      "_view_module": "@jupyter-widgets/controls",
      "_view_module_version": "1.5.0",
      "_view_name": "HTMLView",
      "description": "",
      "description_tooltip": null,
      "layout": "IPY_MODEL_627d533ea4284b0caac6afba04788e1a",
      "placeholder": "​",
      "style": "IPY_MODEL_8be2fc21b19642528137e53f75f52b2f",
      "value": " 170498071/170498071 [00:02&lt;00:00, 63560173.16it/s]"
     }
    },
    "7096f8e8d79c411aaf52c9ed67fe0e5c": {
     "model_module": "@jupyter-widgets/base",
     "model_module_version": "1.2.0",
     "model_name": "LayoutModel",
     "state": {
      "_model_module": "@jupyter-widgets/base",
      "_model_module_version": "1.2.0",
      "_model_name": "LayoutModel",
      "_view_count": null,
      "_view_module": "@jupyter-widgets/base",
      "_view_module_version": "1.2.0",
      "_view_name": "LayoutView",
      "align_content": null,
      "align_items": null,
      "align_self": null,
      "border": null,
      "bottom": null,
      "display": null,
      "flex": null,
      "flex_flow": null,
      "grid_area": null,
      "grid_auto_columns": null,
      "grid_auto_flow": null,
      "grid_auto_rows": null,
      "grid_column": null,
      "grid_gap": null,
      "grid_row": null,
      "grid_template_areas": null,
      "grid_template_columns": null,
      "grid_template_rows": null,
      "height": null,
      "justify_content": null,
      "justify_items": null,
      "left": null,
      "margin": null,
      "max_height": null,
      "max_width": null,
      "min_height": null,
      "min_width": null,
      "object_fit": null,
      "object_position": null,
      "order": null,
      "overflow": null,
      "overflow_x": null,
      "overflow_y": null,
      "padding": null,
      "right": null,
      "top": null,
      "visibility": null,
      "width": null
     }
    },
    "8be2fc21b19642528137e53f75f52b2f": {
     "model_module": "@jupyter-widgets/controls",
     "model_module_version": "1.5.0",
     "model_name": "DescriptionStyleModel",
     "state": {
      "_model_module": "@jupyter-widgets/controls",
      "_model_module_version": "1.5.0",
      "_model_name": "DescriptionStyleModel",
      "_view_count": null,
      "_view_module": "@jupyter-widgets/base",
      "_view_module_version": "1.2.0",
      "_view_name": "StyleView",
      "description_width": ""
     }
    },
    "b9474f4b8b394b6895631d441c0b03e2": {
     "model_module": "@jupyter-widgets/controls",
     "model_module_version": "1.5.0",
     "model_name": "FloatProgressModel",
     "state": {
      "_dom_classes": [],
      "_model_module": "@jupyter-widgets/controls",
      "_model_module_version": "1.5.0",
      "_model_name": "FloatProgressModel",
      "_view_count": null,
      "_view_module": "@jupyter-widgets/controls",
      "_view_module_version": "1.5.0",
      "_view_name": "ProgressView",
      "bar_style": "success",
      "description": "",
      "description_tooltip": null,
      "layout": "IPY_MODEL_7096f8e8d79c411aaf52c9ed67fe0e5c",
      "max": 170498071,
      "min": 0,
      "orientation": "horizontal",
      "style": "IPY_MODEL_6056a80f23f94db48cd8218b368577a0",
      "value": 170498071
     }
    },
    "e792ce9c5c9c4017be8eb936e4b08a0a": {
     "model_module": "@jupyter-widgets/base",
     "model_module_version": "1.2.0",
     "model_name": "LayoutModel",
     "state": {
      "_model_module": "@jupyter-widgets/base",
      "_model_module_version": "1.2.0",
      "_model_name": "LayoutModel",
      "_view_count": null,
      "_view_module": "@jupyter-widgets/base",
      "_view_module_version": "1.2.0",
      "_view_name": "LayoutView",
      "align_content": null,
      "align_items": null,
      "align_self": null,
      "border": null,
      "bottom": null,
      "display": null,
      "flex": null,
      "flex_flow": null,
      "grid_area": null,
      "grid_auto_columns": null,
      "grid_auto_flow": null,
      "grid_auto_rows": null,
      "grid_column": null,
      "grid_gap": null,
      "grid_row": null,
      "grid_template_areas": null,
      "grid_template_columns": null,
      "grid_template_rows": null,
      "height": null,
      "justify_content": null,
      "justify_items": null,
      "left": null,
      "margin": null,
      "max_height": null,
      "max_width": null,
      "min_height": null,
      "min_width": null,
      "object_fit": null,
      "object_position": null,
      "order": null,
      "overflow": null,
      "overflow_x": null,
      "overflow_y": null,
      "padding": null,
      "right": null,
      "top": null,
      "visibility": null,
      "width": null
     }
    }
   }
  }
 },
 "nbformat": 4,
 "nbformat_minor": 5
}
