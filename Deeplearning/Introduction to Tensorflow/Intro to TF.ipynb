{
 "cells": [
  {
   "cell_type": "code",
   "execution_count": 1,
   "id": "af4ff1ba",
   "metadata": {},
   "outputs": [],
   "source": [
    "import tensorflow as tf\n",
    "import numpy as np\n",
    "import pandas as pd\n",
    "import matplotlib.pyplot as plt"
   ]
  },
  {
   "cell_type": "markdown",
   "id": "e1063264",
   "metadata": {},
   "source": [
    "## Introduction to Tensorflow in Python\n",
    "\n",
    "### What is a tensor?\n",
    "- Generalization of vectors and matrices\n",
    "- Collection of numbers\n",
    "- Specific shape"
   ]
  },
  {
   "cell_type": "code",
   "execution_count": 2,
   "id": "e434b42d",
   "metadata": {},
   "outputs": [
    {
     "name": "stdout",
     "output_type": "stream",
     "text": [
      "0D:  [1.]\n",
      "\n",
      "1D:  [1. 1.]\n",
      "\n",
      "2D:  [[1. 1.]\n",
      " [1. 1.]]\n",
      "\n",
      "3D:  [[[1. 1.]\n",
      "  [1. 1.]]\n",
      "\n",
      " [[1. 1.]\n",
      "  [1. 1.]]]\n"
     ]
    }
   ],
   "source": [
    "# 0D Tensor\n",
    "d0 = tf.ones((1, ))\n",
    "print(\"0D: \", d0.numpy())\n",
    "\n",
    "# 1D Tensor\n",
    "d1 = tf.ones((2,))\n",
    "print(\"\\n1D: \", d1.numpy())\n",
    "\n",
    "# 2D Tensor\n",
    "d2 = tf.ones((2, 2))\n",
    "print(\"\\n2D: \", d2.numpy())\n",
    "\n",
    "# 3D Tensor\n",
    "d3 = tf.ones((2, 2, 2))\n",
    "print(\"\\n3D: \", d3.numpy())"
   ]
  },
  {
   "cell_type": "markdown",
   "id": "cbb90ff8",
   "metadata": {},
   "source": [
    "### Constants and Variables\n",
    "\n",
    "#### Constants\n",
    "- Non trainable\n",
    "- Can have any dimension"
   ]
  },
  {
   "cell_type": "code",
   "execution_count": 3,
   "id": "f1aa0b16",
   "metadata": {},
   "outputs": [
    {
     "name": "stdout",
     "output_type": "stream",
     "text": [
      "tf.Tensor(\n",
      "[[ 1  2  3  4  5  6  7  8]\n",
      " [ 9 10 11 12 13 14 15 16]], shape=(2, 8), dtype=int32)\n",
      "tf.Tensor(2, shape=(), dtype=int32)\n",
      "tf.Tensor(\n",
      "[[ 2  4  6  8 10 12 14 16]\n",
      " [18 20 22 24 26 28 30 32]], shape=(2, 8), dtype=int32)\n",
      "tf.Tensor(\n",
      "[[ 2  4  6  8 10 12 14 16]\n",
      " [18 20 22 24 26 28 30 32]], shape=(2, 8), dtype=int32)\n"
     ]
    }
   ],
   "source": [
    "arr = np.array([[1,2,3,4], \n",
    "                [5,6,7,8], \n",
    "                [9,10,11,12], \n",
    "                [13,14,15,16]])\n",
    "# Constant\n",
    "const_1 = tf.constant(arr, shape=(2, 8))\n",
    "print(const_1)\n",
    "\n",
    "const_2 = tf.constant(2)\n",
    "print(const_2)\n",
    "\n",
    "c0 = tf.multiply(const_1, const_2)\n",
    "print(c0)\n",
    "\n",
    "c1 = const_1 * const_2\n",
    "print(c1)"
   ]
  },
  {
   "cell_type": "code",
   "execution_count": 5,
   "id": "b6fdfc72",
   "metadata": {},
   "outputs": [
    {
     "name": "stdout",
     "output_type": "stream",
     "text": [
      "[[  1   4]\n",
      " [  9  16]\n",
      " [ 25  36]\n",
      " [ 49  64]\n",
      " [ 81 100]\n",
      " [121 144]\n",
      " [169 196]\n",
      " [225 256]]\n",
      "Shape:  (8, 2)\n",
      "Dim:  2\n",
      "tf.Tensor(\n",
      "[[  1   4]\n",
      " [  9  16]\n",
      " [ 25  36]\n",
      " [ 49  64]\n",
      " [ 81 100]\n",
      " [121 144]\n",
      " [169 196]\n",
      " [225 256]], shape=(8, 2), dtype=int32)\n"
     ]
    }
   ],
   "source": [
    "# Variable\n",
    "\n",
    "var1 = tf.Variable(arr)\n",
    "arr = arr.reshape((8, 2))\n",
    "var2 = tf.Variable(arr)\n",
    "\n",
    "c2 = tf.multiply(var1, var2)\n",
    "\n",
    "print(c2.numpy())\n",
    "print(\"Shape: \", c2.numpy().shape)\n",
    "print(\"Dim: \", c2.numpy().ndim)\n",
    "print(c2)"
   ]
  },
  {
   "cell_type": "code",
   "execution_count": 6,
   "id": "5414dd22",
   "metadata": {},
   "outputs": [
    {
     "name": "stdout",
     "output_type": "stream",
     "text": [
      "[1 2 3 4 5 6]\n"
     ]
    }
   ],
   "source": [
    "var3 = tf.Variable([1,2,3,4,5,6])\n",
    "print(var3.numpy())"
   ]
  },
  {
   "cell_type": "markdown",
   "id": "9b267534",
   "metadata": {},
   "source": [
    "### What is a Tensorflow operation?\n",
    "\n",
    "![](tf_graph.PNG)\n",
    "\n",
    "The tensorflow graph contains edges and nodes, where edges are tensors and nodes are operations.\n",
    "\n",
    "### Basic Operations\n",
    "\n",
    "#### Performing tensor Addition\n",
    "- ```add()``` operation performs element-wise addition with two tensors\n",
    "- element-wise addition requires both tensors to have the same shape\n",
    "\n",
    "#### Performing tensor Multiplication\n",
    "- Element-wise multiplication performed using ```multiply()``` operation\n",
    "    - The tensors multiplied must have the same shape\n",
    "    - E.g [1,2,3] and [3,4,5] or [1,2] and [3,4]\n",
    "\n",
    "- Matrix multiplication performed with ```matmul()``` operator\n",
    "    - The ```matmul(A, B)``` operation multiplies A by B\n",
    "    - Number of columns of A must equal the number of rows of B"
   ]
  },
  {
   "cell_type": "code",
   "execution_count": 24,
   "id": "a66fa091",
   "metadata": {},
   "outputs": [
    {
     "name": "stdout",
     "output_type": "stream",
     "text": [
      "tf.Tensor(\n",
      "[[2 2 2 2]\n",
      " [3 3 3 3]\n",
      " [4 4 4 4]\n",
      " [5 5 5 5]], shape=(4, 4), dtype=int32)\n",
      "tf.Tensor(\n",
      "[[2 3 4 5]\n",
      " [2 3 4 5]\n",
      " [2 3 4 5]\n",
      " [2 3 4 5]], shape=(4, 4), dtype=int32)\n"
     ]
    }
   ],
   "source": [
    "a0 = tf.reshape(tf.ones_like(arr), (4, 4))\n",
    "b0 = tf.constant([1, 2, 3, 4], shape=(4, 1))\n",
    "c0 = tf.reshape(b0, (1, 4))\n",
    "\n",
    "print(tf.add(a0, b0))\n",
    "print(tf.add(a0, c0))"
   ]
  },
  {
   "cell_type": "code",
   "execution_count": 28,
   "id": "059d939c",
   "metadata": {},
   "outputs": [
    {
     "name": "stdout",
     "output_type": "stream",
     "text": [
      "tf.Tensor(\n",
      "[[1 1 1 1]\n",
      " [2 2 2 2]\n",
      " [3 3 3 3]\n",
      " [4 4 4 4]], shape=(4, 4), dtype=int32)\n",
      "tf.Tensor(\n",
      "[[10]\n",
      " [10]\n",
      " [10]\n",
      " [10]], shape=(4, 1), dtype=int32)\n"
     ]
    }
   ],
   "source": [
    "print(tf.multiply(a0, b0))\n",
    "print(tf.matmul(a0, b0))"
   ]
  },
  {
   "cell_type": "markdown",
   "id": "f4d536b7",
   "metadata": {},
   "source": [
    "### Summing over tensor dimensions\n",
    "\n",
    "- The ```reduce_sum()``` operator sums over the dimensions of a tensor\n",
    "- ```reduce_sum(A)``` sums over all dimensions of A\n",
    "- ```reduce_sum(A, i)``` sums over dimension i"
   ]
  },
  {
   "cell_type": "code",
   "execution_count": 38,
   "id": "c072a012",
   "metadata": {},
   "outputs": [
    {
     "name": "stdout",
     "output_type": "stream",
     "text": [
      "[[[1. 1. 1. 1.]\n",
      "  [1. 1. 1. 1.]\n",
      "  [1. 1. 1. 1.]]\n",
      "\n",
      " [[1. 1. 1. 1.]\n",
      "  [1. 1. 1. 1.]\n",
      "  [1. 1. 1. 1.]]]\n",
      "24.0\n",
      "[[2. 2. 2. 2.]\n",
      " [2. 2. 2. 2.]\n",
      " [2. 2. 2. 2.]]\n",
      "[[3. 3. 3. 3.]\n",
      " [3. 3. 3. 3.]]\n",
      "[[4. 4. 4.]\n",
      " [4. 4. 4.]]\n"
     ]
    }
   ],
   "source": [
    "A = tf.ones([2,3,4])\n",
    "print(A.numpy())\n",
    "\n",
    "B = tf.reduce_sum(A)\n",
    "print(B.numpy())\n",
    "\n",
    "B0 = tf.reduce_sum(A, 0)\n",
    "print(B0.numpy())\n",
    "\n",
    "B1 = tf.reduce_sum(A, 1)\n",
    "print(B1.numpy())\n",
    "\n",
    "B2 = tf.reduce_sum(A, 2)\n",
    "print(B2.numpy())"
   ]
  },
  {
   "cell_type": "markdown",
   "id": "5d20396d",
   "metadata": {},
   "source": [
    "### Advanced Operations\n",
    "\n",
    "- ```gradient()``` - Computes the slope of a function at a point\n",
    "- ```reshape()``` - Reshapes a tensor (e.g. 10x10 to 100x1)\n",
    "- ```random()``` - Populates tensor with entries drawn from a probability distribution\n",
    "\n",
    "![](gradient_tape.PNG)\n",
    "\n",
    "### Calculating the gradient\n",
    "\n",
    "![](x^2.PNG)"
   ]
  },
  {
   "cell_type": "code",
   "execution_count": 57,
   "id": "06a3cf50",
   "metadata": {},
   "outputs": [
    {
     "name": "stdout",
     "output_type": "stream",
     "text": [
      "1.0\n",
      "-1.0\n",
      "-2.0\n"
     ]
    }
   ],
   "source": [
    "x = tf.Variable(-1.0)\n",
    "\n",
    "# Define y within instance of GradientTape\n",
    "with tf.GradientTape() as tape:\n",
    "    tape.watch(x)\n",
    "    y = tf.multiply(x, x)\n",
    "    print(y.numpy())\n",
    "    print(x.numpy())\n",
    "    \n",
    "# Evaluate the gradient of y at x = -1\n",
    "g = tape.gradient(y, x)\n",
    "print(g.numpy())"
   ]
  },
  {
   "cell_type": "markdown",
   "id": "672ca06d",
   "metadata": {},
   "source": [
    "### How to reshape a grayscale Image"
   ]
  },
  {
   "cell_type": "code",
   "execution_count": 67,
   "id": "265b88a9",
   "metadata": {},
   "outputs": [
    {
     "name": "stdout",
     "output_type": "stream",
     "text": [
      "[[166 183]\n",
      " [240 213]]\n",
      "[[166]\n",
      " [183]\n",
      " [240]\n",
      " [213]]\n",
      "[[[ 73 135 136]\n",
      "  [ 54  28   9]]\n",
      "\n",
      " [[ 53 148 109]\n",
      "  [162 125  12]]]\n",
      "[[ 73 135 136]\n",
      " [ 54  28   9]\n",
      " [ 53 148 109]\n",
      " [162 125  12]]\n"
     ]
    }
   ],
   "source": [
    "# Generate grayscale image\n",
    "gray = tf.random.uniform([2,2], maxval=255, dtype='int32')\n",
    "print(gray.numpy())\n",
    "\n",
    "# Reshape grayscale image\n",
    "gray = tf.reshape(gray, [2*2, 1])\n",
    "print(gray.numpy())\n",
    "\n",
    "# Generate grayscale image\n",
    "rgb = tf.random.uniform([2,2,3], maxval=255, dtype='int32')\n",
    "print(rgb.numpy())\n",
    "\n",
    "# Reshape grayscale image\n",
    "rgb = tf.reshape(rgb, [2*2, 3])\n",
    "print(rgb.numpy())"
   ]
  },
  {
   "cell_type": "markdown",
   "id": "f125d889",
   "metadata": {},
   "source": [
    "## Linear Models\n",
    "\n",
    "### Input data"
   ]
  },
  {
   "cell_type": "code",
   "execution_count": 2,
   "id": "14640fa1",
   "metadata": {},
   "outputs": [
    {
     "name": "stdout",
     "output_type": "stream",
     "text": [
      "               id             date     price  bedrooms  bathrooms  \\\n",
      "0      7129300520  20141013T000000  221900.0         3       1.00   \n",
      "1      6414100192  20141209T000000  538000.0         3       2.25   \n",
      "2      5631500400  20150225T000000  180000.0         2       1.00   \n",
      "3      2487200875  20141209T000000  604000.0         4       3.00   \n",
      "4      1954400510  20150218T000000  510000.0         3       2.00   \n",
      "...           ...              ...       ...       ...        ...   \n",
      "21608   263000018  20140521T000000  360000.0         3       2.50   \n",
      "21609  6600060120  20150223T000000  400000.0         4       2.50   \n",
      "21610  1523300141  20140623T000000  402101.0         2       0.75   \n",
      "21611   291310100  20150116T000000  400000.0         3       2.50   \n",
      "21612  1523300157  20141015T000000  325000.0         2       0.75   \n",
      "\n",
      "       sqft_living  sqft_lot  floors  waterfront  view  ...  grade  \\\n",
      "0             1180      5650     1.0           0     0  ...      7   \n",
      "1             2570      7242     2.0           0     0  ...      7   \n",
      "2              770     10000     1.0           0     0  ...      6   \n",
      "3             1960      5000     1.0           0     0  ...      7   \n",
      "4             1680      8080     1.0           0     0  ...      8   \n",
      "...            ...       ...     ...         ...   ...  ...    ...   \n",
      "21608         1530      1131     3.0           0     0  ...      8   \n",
      "21609         2310      5813     2.0           0     0  ...      8   \n",
      "21610         1020      1350     2.0           0     0  ...      7   \n",
      "21611         1600      2388     2.0           0     0  ...      8   \n",
      "21612         1020      1076     2.0           0     0  ...      7   \n",
      "\n",
      "       sqft_above  sqft_basement  yr_built  yr_renovated  zipcode      lat  \\\n",
      "0            1180              0      1955             0    98178  47.5112   \n",
      "1            2170            400      1951          1991    98125  47.7210   \n",
      "2             770              0      1933             0    98028  47.7379   \n",
      "3            1050            910      1965             0    98136  47.5208   \n",
      "4            1680              0      1987             0    98074  47.6168   \n",
      "...           ...            ...       ...           ...      ...      ...   \n",
      "21608        1530              0      2009             0    98103  47.6993   \n",
      "21609        2310              0      2014             0    98146  47.5107   \n",
      "21610        1020              0      2009             0    98144  47.5944   \n",
      "21611        1600              0      2004             0    98027  47.5345   \n",
      "21612        1020              0      2008             0    98144  47.5941   \n",
      "\n",
      "          long  sqft_living15  sqft_lot15  \n",
      "0     -122.257           1340        5650  \n",
      "1     -122.319           1690        7639  \n",
      "2     -122.233           2720        8062  \n",
      "3     -122.393           1360        5000  \n",
      "4     -122.045           1800        7503  \n",
      "...        ...            ...         ...  \n",
      "21608 -122.346           1530        1509  \n",
      "21609 -122.362           1830        7200  \n",
      "21610 -122.299           1020        2007  \n",
      "21611 -122.069           1410        1287  \n",
      "21612 -122.299           1020        1357  \n",
      "\n",
      "[21613 rows x 21 columns]\n",
      "<class 'numpy.ndarray'>\n",
      "<class 'tensorflow.python.framework.ops.EagerTensor'>\n"
     ]
    }
   ],
   "source": [
    "# Loading data using pandas\n",
    "data = pd.read_csv('kc_house_data.csv')\n",
    "\n",
    "print(data)\n",
    "\n",
    "price = np.array(data['price'], dtype=np.float32)\n",
    "waterfront = tf.cast(data['waterfront'], dtype=tf.bool)\n",
    "\n",
    "print(type(price))\n",
    "print(type(waterfront))"
   ]
  },
  {
   "cell_type": "markdown",
   "id": "1804075c",
   "metadata": {},
   "source": [
    "### Introduction to loss functions\n",
    "\n",
    "- Fundamental ```tensorflow``` operation\n",
    "    - Used to train a model\n",
    "    - Measure of model fit\n",
    "    \n",
    "- Higher value -> worse fit\n",
    "    - Minimize the loss function\n",
    "    \n",
    "### Common loss functions in Tensorflow\n",
    "\n",
    "- Mean Squared Error (MSE)\n",
    "- Mean Absolute Error (MAE)\n",
    "- Huber error\n",
    "\n",
    "- Loss functions are accessible from ```tf.keras.losses()```\n",
    "    - ```tf.keras.losses.mse()```\n",
    "    - ```tf.keras.losses.mae()```\n",
    "    - ```tf.keras.losses.Huber()```\n",
    "    \n",
    "### Why do we care about loss functions?\n",
    "\n",
    "![](loss.PNG)\n",
    "\n",
    "### Notice below: \n",
    "MAE is much smaller than the MSE, even though price and predictions are the same. This is because the different loss functions penalize deviations of predictions from price differently. MSE does not like large deviations and punishes them harshly."
   ]
  },
  {
   "cell_type": "code",
   "execution_count": 3,
   "id": "5dbb576a",
   "metadata": {},
   "outputs": [
    {
     "name": "stdout",
     "output_type": "stream",
     "text": [
      "Loss (mse):  38\n",
      "Loss (mae):  3\n"
     ]
    }
   ],
   "source": [
    "# Calculating loss with dummy targets and predictions tensor\n",
    "target = tf.Variable([4,5,1,10,12,2,1])\n",
    "prediction = tf.Variable([2,5,-10,11,0,2,1])\n",
    "\n",
    "loss_mse = tf.keras.losses.mse(target, prediction)\n",
    "print(\"Loss (mse): \", loss_mse.numpy())\n",
    "\n",
    "loss_mae = tf.keras.losses.mae(target, prediction)\n",
    "print(\"Loss (mae): \", loss_mae.numpy())"
   ]
  },
  {
   "cell_type": "markdown",
   "id": "ae4225e1",
   "metadata": {},
   "source": [
    "### Modifying the loss function\n",
    "\n",
    "The purpose of modification is to construct a function of the trainable model variables that returns the loss which can then repeatedly evaluate this function for different variable values until you find the minimum. In practice, we will pass this function to an optimizer in tensorflow"
   ]
  },
  {
   "cell_type": "code",
   "execution_count": 4,
   "id": "75e1ada0",
   "metadata": {},
   "outputs": [
    {
     "name": "stdout",
     "output_type": "stream",
     "text": [
      "3.0\n"
     ]
    }
   ],
   "source": [
    "scalar = tf.Variable(1.0, dtype=tf.float32)\n",
    "targets = tf.Variable([2,4,6,8,10], dtype=tf.float32)\n",
    "features = tf.Variable([1,2,3,4,5], dtype=tf.float32)\n",
    "\n",
    "# Dummy model\n",
    "def model(scalar, features=features):\n",
    "    return scalar * features\n",
    "\n",
    "# loss function\n",
    "def loss_function(scalar, features=features, targets=targets):\n",
    "    predictions = model(scalar, features)\n",
    "    return tf.keras.losses.mae(targets, predictions)\n",
    "\n",
    "print(loss_function(scalar).numpy())"
   ]
  },
  {
   "cell_type": "markdown",
   "id": "cb193744",
   "metadata": {},
   "source": [
    "### Linear Regression"
   ]
  },
  {
   "cell_type": "code",
   "execution_count": 98,
   "id": "f3344835",
   "metadata": {},
   "outputs": [
    {
     "data": {
      "image/png": "[encoded data removed]",
      "text/plain": [
       "<Figure size 800x400 with 1 Axes>"
      ]
     },
     "metadata": {},
     "output_type": "display_data"
    }
   ],
   "source": [
    "# Define targets and features\n",
    "\n",
    "size = tf.cast(np.log(data['sqft_lot']), dtype=tf.float32)\n",
    "price = tf.cast(np.log(data['price']), dtype=tf.float32)\n",
    "\n",
    "fig, ax = plt.subplots(nrows=1, ncols=1, figsize=(8, 4), dpi=100)\n",
    "ax.scatter(size, price, c='black')\n",
    "ax.grid(True)\n",
    "ax.set_xlabel('Log(Size)')\n",
    "ax.set_ylabel('Log(Price)')\n",
    "ax.set_title('Scatterplot of house size and price')\n",
    "plt.show()"
   ]
  },
  {
   "cell_type": "markdown",
   "id": "080bfbd4",
   "metadata": {},
   "source": [
    "![](lin_reg.PNG)"
   ]
  },
  {
   "cell_type": "code",
   "execution_count": 100,
   "id": "2c22e685",
   "metadata": {},
   "outputs": [],
   "source": [
    "# Define intercept and loss, these will be changed in the optimization step\n",
    "\n",
    "slope = tf.Variable(0.1, tf.float32)\n",
    "intercept = tf.Variable(0.1, tf.float32)"
   ]
  },
  {
   "cell_type": "code",
   "execution_count": 117,
   "id": "a4c70a24",
   "metadata": {},
   "outputs": [
    {
     "name": "stdout",
     "output_type": "stream",
     "text": [
      "23.53733 0.40089026\n"
     ]
    }
   ],
   "source": [
    "# Define a linear regression model\n",
    "\n",
    "def linear_regression(slope, intercept, features=size):\n",
    "    return tf.multiply(tf.add(intercept, features), slope)\n",
    "\n",
    "# Compute predictions and loss\n",
    "def loss_function(slope, intercept, targets=price, features=size):\n",
    "    predictions = linear_regression(slope, intercept)\n",
    "    return tf.keras.losses.mse(targets, predictions)\n",
    "\n",
    "# Define Optimization Operation\n",
    "opt = tf.keras.optimizers.Adam(0.1)\n",
    "\n",
    "# Minimize the loss and print the loss\n",
    "for i in range(1000):\n",
    "    opt.minimize(lambda: loss_function(slope, intercept),\n",
    "                 var_list=[slope, intercept])\n",
    "#     print(loss_function(slope, intercept))\n",
    "    \n",
    "# print the trained parameters which are slope and intercept\n",
    "print(intercept.numpy(), slope.numpy())"
   ]
  },
  {
   "cell_type": "code",
   "execution_count": 118,
   "id": "b0f251bf",
   "metadata": {},
   "outputs": [],
   "source": [
    "# Predict\n",
    "y = tf.add(tf.multiply(slope, size), intercept.numpy())"
   ]
  },
  {
   "cell_type": "code",
   "execution_count": 119,
   "id": "a6149093",
   "metadata": {},
   "outputs": [
    {
     "data": {
      "text/plain": [
       "<tf.Tensor: shape=(21613,), dtype=float32, numpy=\n",
       "array([27.000786, 27.100304, 27.229666, ..., 26.426891, 26.65554 ,\n",
       "       26.335947], dtype=float32)>"
      ]
     },
     "execution_count": 119,
     "metadata": {},
     "output_type": "execute_result"
    }
   ],
   "source": [
    "y"
   ]
  },
  {
   "cell_type": "code",
   "execution_count": 120,
   "id": "08f90e5e",
   "metadata": {},
   "outputs": [
    {
     "data": {
      "image/png": "[encoded data removed]",
      "text/plain": [
       "<Figure size 800x400 with 1 Axes>"
      ]
     },
     "metadata": {},
     "output_type": "display_data"
    }
   ],
   "source": [
    "fig, ax = plt.subplots(figsize=(8, 4), nrows=1, ncols=1, dpi=100)\n",
    "ax.scatter(size, price, c='black')\n",
    "ax.plot(size, y, c='red')\n",
    "ax.grid(True)\n",
    "ax.set_xlabel('Log(Size)')\n",
    "ax.set_ylabel('Log(Price)')\n",
    "ax.set_title('Scatterplot of house size and price')\n",
    "plt.show()"
   ]
  },
  {
   "cell_type": "markdown",
   "id": "b69645b1",
   "metadata": {},
   "source": [
    "### Batch Training\n",
    "\n",
    "When dataset is large, we divide dataset into batches and train on those batches sequentially. Single iteration on all batches is called an epoch. Used for large datasets. When memory is in small amount, we use batch training.\n",
    "\n",
    "![](batch.PNG)\n",
    "\n",
    "### The chunksize parameter\n",
    "\n",
    "- ```pd.read_csv()``` allows us to load data in batches\n",
    "    - Avoid loading entire dataset\n",
    "    - ```chunksize``` parameter provides batch size"
   ]
  },
  {
   "cell_type": "code",
   "execution_count": 5,
   "id": "035ae614",
   "metadata": {},
   "outputs": [
    {
     "name": "stdout",
     "output_type": "stream",
     "text": [
      "Loaded Batch: 1\n",
      "Loaded Batch: 2\n",
      "Loaded Batch: 3\n",
      "Loaded Batch: 4\n",
      "Loaded Batch: 5\n",
      "Loaded Batch: 6\n",
      "Loaded Batch: 7\n",
      "Loaded Batch: 8\n",
      "Loaded Batch: 9\n",
      "Loaded Batch: 10\n",
      "Loaded Batch: 11\n",
      "Loaded Batch: 12\n",
      "Loaded Batch: 13\n",
      "Loaded Batch: 14\n",
      "Loaded Batch: 15\n",
      "Loaded Batch: 16\n",
      "Loaded Batch: 17\n",
      "Loaded Batch: 18\n",
      "Loaded Batch: 19\n",
      "Loaded Batch: 20\n",
      "Loaded Batch: 21\n",
      "Loaded Batch: 22\n",
      "Loaded Batch: 23\n",
      "Loaded Batch: 24\n",
      "Loaded Batch: 25\n",
      "Loaded Batch: 26\n",
      "Loaded Batch: 27\n",
      "Loaded Batch: 28\n",
      "Loaded Batch: 29\n",
      "Loaded Batch: 30\n",
      "Loaded Batch: 31\n",
      "Loaded Batch: 32\n",
      "Loaded Batch: 33\n",
      "Loaded Batch: 34\n",
      "Loaded Batch: 35\n",
      "Loaded Batch: 36\n",
      "Loaded Batch: 37\n",
      "Loaded Batch: 38\n",
      "Loaded Batch: 39\n",
      "Loaded Batch: 40\n",
      "Loaded Batch: 41\n",
      "Loaded Batch: 42\n",
      "Loaded Batch: 43\n",
      "Loaded Batch: 44\n",
      "Loaded Batch: 45\n",
      "Loaded Batch: 46\n",
      "Loaded Batch: 47\n",
      "Loaded Batch: 48\n",
      "Loaded Batch: 49\n",
      "Loaded Batch: 50\n",
      "Loaded Batch: 51\n",
      "Loaded Batch: 52\n",
      "Loaded Batch: 53\n",
      "Loaded Batch: 54\n",
      "Loaded Batch: 55\n",
      "Loaded Batch: 56\n",
      "Loaded Batch: 57\n",
      "Loaded Batch: 58\n",
      "Loaded Batch: 59\n",
      "Loaded Batch: 60\n",
      "Loaded Batch: 61\n",
      "Loaded Batch: 62\n",
      "Loaded Batch: 63\n",
      "Loaded Batch: 64\n",
      "Loaded Batch: 65\n",
      "Loaded Batch: 66\n",
      "Loaded Batch: 67\n",
      "Loaded Batch: 68\n",
      "Loaded Batch: 69\n",
      "Loaded Batch: 70\n",
      "Loaded Batch: 71\n",
      "Loaded Batch: 72\n",
      "Loaded Batch: 73\n",
      "Loaded Batch: 74\n",
      "Loaded Batch: 75\n",
      "Loaded Batch: 76\n",
      "Loaded Batch: 77\n",
      "Loaded Batch: 78\n",
      "Loaded Batch: 79\n",
      "Loaded Batch: 80\n",
      "Loaded Batch: 81\n",
      "Loaded Batch: 82\n",
      "Loaded Batch: 83\n",
      "Loaded Batch: 84\n",
      "Loaded Batch: 85\n",
      "Loaded Batch: 86\n",
      "Loaded Batch: 87\n",
      "Loaded Batch: 88\n",
      "Loaded Batch: 89\n",
      "Loaded Batch: 90\n",
      "Loaded Batch: 91\n",
      "Loaded Batch: 92\n",
      "Loaded Batch: 93\n",
      "Loaded Batch: 94\n",
      "Loaded Batch: 95\n",
      "Loaded Batch: 96\n",
      "Loaded Batch: 97\n",
      "Loaded Batch: 98\n",
      "Loaded Batch: 99\n",
      "Loaded Batch: 100\n",
      "Loaded Batch: 101\n",
      "Loaded Batch: 102\n",
      "Loaded Batch: 103\n",
      "Loaded Batch: 104\n",
      "Loaded Batch: 105\n",
      "Loaded Batch: 106\n",
      "Loaded Batch: 107\n",
      "Loaded Batch: 108\n",
      "Loaded Batch: 109\n",
      "Loaded Batch: 110\n",
      "Loaded Batch: 111\n",
      "Loaded Batch: 112\n",
      "Loaded Batch: 113\n",
      "Loaded Batch: 114\n",
      "Loaded Batch: 115\n",
      "Loaded Batch: 116\n",
      "Loaded Batch: 117\n",
      "Loaded Batch: 118\n",
      "Loaded Batch: 119\n",
      "Loaded Batch: 120\n",
      "Loaded Batch: 121\n",
      "Loaded Batch: 122\n",
      "Loaded Batch: 123\n",
      "Loaded Batch: 124\n",
      "Loaded Batch: 125\n",
      "Loaded Batch: 126\n",
      "Loaded Batch: 127\n",
      "Loaded Batch: 128\n",
      "Loaded Batch: 129\n",
      "Loaded Batch: 130\n",
      "Loaded Batch: 131\n",
      "Loaded Batch: 132\n",
      "Loaded Batch: 133\n",
      "Loaded Batch: 134\n",
      "Loaded Batch: 135\n",
      "Loaded Batch: 136\n",
      "Loaded Batch: 137\n",
      "Loaded Batch: 138\n",
      "Loaded Batch: 139\n",
      "Loaded Batch: 140\n",
      "Loaded Batch: 141\n",
      "Loaded Batch: 142\n",
      "Loaded Batch: 143\n",
      "Loaded Batch: 144\n",
      "Loaded Batch: 145\n",
      "Loaded Batch: 146\n",
      "Loaded Batch: 147\n",
      "Loaded Batch: 148\n",
      "Loaded Batch: 149\n",
      "Loaded Batch: 150\n",
      "Loaded Batch: 151\n",
      "Loaded Batch: 152\n",
      "Loaded Batch: 153\n",
      "Loaded Batch: 154\n",
      "Loaded Batch: 155\n",
      "Loaded Batch: 156\n",
      "Loaded Batch: 157\n",
      "Loaded Batch: 158\n",
      "Loaded Batch: 159\n",
      "Loaded Batch: 160\n",
      "Loaded Batch: 161\n",
      "Loaded Batch: 162\n",
      "Loaded Batch: 163\n",
      "Loaded Batch: 164\n",
      "Loaded Batch: 165\n",
      "Loaded Batch: 166\n",
      "Loaded Batch: 167\n",
      "Loaded Batch: 168\n",
      "Loaded Batch: 169\n",
      "Loaded Batch: 170\n",
      "Loaded Batch: 171\n",
      "Loaded Batch: 172\n",
      "Loaded Batch: 173\n",
      "Loaded Batch: 174\n",
      "Loaded Batch: 175\n",
      "Loaded Batch: 176\n",
      "Loaded Batch: 177\n",
      "Loaded Batch: 178\n",
      "Loaded Batch: 179\n",
      "Loaded Batch: 180\n",
      "Loaded Batch: 181\n",
      "Loaded Batch: 182\n",
      "Loaded Batch: 183\n",
      "Loaded Batch: 184\n",
      "Loaded Batch: 185\n",
      "Loaded Batch: 186\n",
      "Loaded Batch: 187\n",
      "Loaded Batch: 188\n",
      "Loaded Batch: 189\n",
      "Loaded Batch: 190\n",
      "Loaded Batch: 191\n",
      "Loaded Batch: 192\n",
      "Loaded Batch: 193\n",
      "Loaded Batch: 194\n",
      "Loaded Batch: 195\n",
      "Loaded Batch: 196\n",
      "Loaded Batch: 197\n",
      "Loaded Batch: 198\n",
      "Loaded Batch: 199\n",
      "Loaded Batch: 200\n",
      "Loaded Batch: 201\n",
      "Loaded Batch: 202\n",
      "Loaded Batch: 203\n",
      "Loaded Batch: 204\n",
      "Loaded Batch: 205\n",
      "Loaded Batch: 206\n",
      "Loaded Batch: 207\n",
      "Loaded Batch: 208\n",
      "Loaded Batch: 209\n",
      "Loaded Batch: 210\n",
      "Loaded Batch: 211\n",
      "Loaded Batch: 212\n",
      "Loaded Batch: 213\n",
      "Loaded Batch: 214\n",
      "Loaded Batch: 215\n",
      "Loaded Batch: 216\n",
      "Loaded Batch: 217\n"
     ]
    }
   ],
   "source": [
    "i = 0\n",
    "for batch in pd.read_csv('kc_house_data.csv', chunksize=100):\n",
    "    i += 1;\n",
    "    print(\"Loaded Batch: {}\".format(i))\n",
    "    price = np.array(batch['price'], np.float32)\n",
    "    size = np.array(batch['sqft_living'], np.float32)\n",
    "#     print(price)\n",
    "#     print(size)"
   ]
  },
  {
   "cell_type": "markdown",
   "id": "cb43c551",
   "metadata": {},
   "source": [
    "### Training a linear model in batches"
   ]
  },
  {
   "cell_type": "code",
   "execution_count": 2,
   "id": "a422384e",
   "metadata": {},
   "outputs": [],
   "source": [
    "# Define trainable variables\n",
    "intercept = tf.Variable(0.1, tf.float32)\n",
    "slope = tf.Variable(0.1, tf.float32)"
   ]
  },
  {
   "cell_type": "code",
   "execution_count": 3,
   "id": "92c65959",
   "metadata": {},
   "outputs": [],
   "source": [
    "def linear_regression(intercept, slope, features):\n",
    "    return intercept + features * slope"
   ]
  },
  {
   "cell_type": "code",
   "execution_count": 4,
   "id": "3dbcf280",
   "metadata": {},
   "outputs": [],
   "source": [
    "def loss_function(intercept, slope, targets, features):\n",
    "    predictions = linear_regression(intercept, slope, features)\n",
    "    return tf.keras.losses.mse(targets, predictions)"
   ]
  },
  {
   "cell_type": "code",
   "execution_count": 5,
   "id": "016f8785",
   "metadata": {},
   "outputs": [],
   "source": [
    "opt = tf.optimizers.Adam()"
   ]
  },
  {
   "cell_type": "code",
   "execution_count": 6,
   "id": "4a266187",
   "metadata": {},
   "outputs": [],
   "source": [
    "for batch in pd.read_csv('kc_house_data.csv', chunksize=100):\n",
    "    price_batch = np.array(batch['price'], np.float32)\n",
    "    size_batch = np.array(batch['sqft_lot'], np.float32)\n",
    "    \n",
    "    opt.minimize(lambda: loss_function(intercept, slope, price_batch, size_batch),\n",
    "                var_list=[intercept, slope])"
   ]
  },
  {
   "cell_type": "code",
   "execution_count": 7,
   "id": "b25adefe",
   "metadata": {},
   "outputs": [
    {
     "name": "stdout",
     "output_type": "stream",
     "text": [
      "0.31781912 0.29831016\n"
     ]
    }
   ],
   "source": [
    "print(intercept.numpy(), slope.numpy())"
   ]
  },
  {
   "cell_type": "markdown",
   "id": "94afc40d",
   "metadata": {},
   "source": [
    "### Full sample versus batch training\n",
    "\n",
    "![](full_vs_batch.PNG)"
   ]
  },
  {
   "cell_type": "markdown",
   "id": "667088fb",
   "metadata": {},
   "source": [
    "### Reference: Datacamp"
   ]
  }
 ],
 "metadata": {
  "kernelspec": {
   "display_name": "Python 3 (ipykernel)",
   "language": "python",
   "name": "python3"
  },
  "language_info": {
   "codemirror_mode": {
    "name": "ipython",
    "version": 3
   },
   "file_extension": ".py",
   "mimetype": "text/x-python",
   "name": "python",
   "nbconvert_exporter": "python",
   "pygments_lexer": "ipython3",
   "version": "3.10.6"
  }
 },
 "nbformat": 4,
 "nbformat_minor": 5
}
