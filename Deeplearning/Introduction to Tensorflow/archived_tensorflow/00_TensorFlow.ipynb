{
 "cells": [
  {
   "cell_type": "code",
   "execution_count": 1,
   "id": "7aa27255",
   "metadata": {},
   "outputs": [
    {
     "name": "stderr",
     "output_type": "stream",
     "text": [
      "2022-04-29 18:06:50.640468: W tensorflow/stream_executor/platform/default/dso_loader.cc:64] Could not load dynamic library 'libcudart.so.11.0'; dlerror: libcudart.so.11.0: cannot open shared object file: No such file or directory\n",
      "2022-04-29 18:06:50.640495: I tensorflow/stream_executor/cuda/cudart_stub.cc:29] Ignore above cudart dlerror if you do not have a GPU set up on your machine.\n"
     ]
    }
   ],
   "source": [
    "import tensorflow as tf\n",
    "import numpy as np\n",
    "import matplotlib.pyplot as plt"
   ]
  },
  {
   "cell_type": "code",
   "execution_count": 2,
   "id": "07f20e66",
   "metadata": {},
   "outputs": [
    {
     "data": {
      "text/plain": [
       "'2.8.0'"
      ]
     },
     "execution_count": 2,
     "metadata": {},
     "output_type": "execute_result"
    }
   ],
   "source": [
    "tf.__version__"
   ]
  },
  {
   "cell_type": "markdown",
   "id": "b880d91d",
   "metadata": {},
   "source": [
    "## Creating tensor"
   ]
  },
  {
   "cell_type": "code",
   "execution_count": 3,
   "id": "88e8b6b2",
   "metadata": {},
   "outputs": [
    {
     "name": "stderr",
     "output_type": "stream",
     "text": [
      "2022-04-29 18:06:54.458276: W tensorflow/stream_executor/platform/default/dso_loader.cc:64] Could not load dynamic library 'libcuda.so.1'; dlerror: libcuda.so.1: cannot open shared object file: No such file or directory\n",
      "2022-04-29 18:06:54.458319: W tensorflow/stream_executor/cuda/cuda_driver.cc:269] failed call to cuInit: UNKNOWN ERROR (303)\n",
      "2022-04-29 18:06:54.458344: I tensorflow/stream_executor/cuda/cuda_diagnostics.cc:156] kernel driver does not appear to be running on this host (batman): /proc/driver/nvidia/version does not exist\n",
      "2022-04-29 18:06:54.460149: I tensorflow/core/platform/cpu_feature_guard.cc:151] This TensorFlow binary is optimized with oneAPI Deep Neural Network Library (oneDNN) to use the following CPU instructions in performance-critical operations:  AVX2 FMA\n",
      "To enable them in other operations, rebuild TensorFlow with the appropriate compiler flags.\n"
     ]
    },
    {
     "data": {
      "text/plain": [
       "<tf.Tensor: shape=(), dtype=float32, numpy=10.0>"
      ]
     },
     "execution_count": 3,
     "metadata": {},
     "output_type": "execute_result"
    }
   ],
   "source": [
    "scalar = tf.constant(10, dtype=float)\n",
    "scalar"
   ]
  },
  {
   "cell_type": "code",
   "execution_count": 4,
   "id": "ec07a8c7",
   "metadata": {},
   "outputs": [
    {
     "data": {
      "text/plain": [
       "<tf.Tensor: shape=(3,), dtype=int32, numpy=array([1, 2, 3], dtype=int32)>"
      ]
     },
     "execution_count": 4,
     "metadata": {},
     "output_type": "execute_result"
    }
   ],
   "source": [
    "vector = tf.constant([1, 2, 3])\n",
    "vector"
   ]
  },
  {
   "cell_type": "code",
   "execution_count": 5,
   "id": "40ffb20a",
   "metadata": {},
   "outputs": [
    {
     "data": {
      "text/plain": [
       "(<tf.Tensor: shape=(3, 2, 3), dtype=int32, numpy=\n",
       " array([[[  1,   2,   3],\n",
       "         [  4,   5,   6]],\n",
       " \n",
       "        [[ 10,  20,  30],\n",
       "         [ 40,  50,  60]],\n",
       " \n",
       "        [[100, 200, 300],\n",
       "         [400, 500, 600]]], dtype=int32)>,\n",
       " 3)"
      ]
     },
     "execution_count": 5,
     "metadata": {},
     "output_type": "execute_result"
    }
   ],
   "source": [
    "tensor = tf.constant([[[1, 2, 3],\n",
    "                      [4, 5, 6]],\n",
    "                     \n",
    "                     [[10, 20, 30],\n",
    "                     [40, 50, 60]],\n",
    "                     \n",
    "                     [[100, 200, 300],\n",
    "                     [400, 500, 600]]])\n",
    "tensor, tensor.ndim"
   ]
  },
  {
   "cell_type": "code",
   "execution_count": 6,
   "id": "b08673d9",
   "metadata": {},
   "outputs": [
    {
     "data": {
      "text/plain": [
       "<tf.Variable 'Variable:0' shape=() dtype=int32, numpy=10>"
      ]
     },
     "execution_count": 6,
     "metadata": {},
     "output_type": "execute_result"
    }
   ],
   "source": [
    "varScalar = tf.Variable(10)\n",
    "varScalar"
   ]
  },
  {
   "cell_type": "code",
   "execution_count": 7,
   "id": "9c78968a",
   "metadata": {},
   "outputs": [
    {
     "data": {
      "text/plain": [
       "<tf.Variable 'Variable:0' shape=(2, 2, 2) dtype=int32, numpy=\n",
       "array([[[ 1,  2],\n",
       "        [ 2,  4]],\n",
       "\n",
       "       [[ 4,  5],\n",
       "        [ 8, 10]]], dtype=int32)>"
      ]
     },
     "execution_count": 7,
     "metadata": {},
     "output_type": "execute_result"
    }
   ],
   "source": [
    "varTensor = tf.Variable([[[1, 2], [2, 4]],\n",
    "                        [[4, 5], [8, 10]]])\n",
    "varTensor"
   ]
  },
  {
   "cell_type": "markdown",
   "id": "67023c44",
   "metadata": {},
   "source": [
    "## Shuffling tensor + Random Initialization"
   ]
  },
  {
   "cell_type": "code",
   "execution_count": 8,
   "id": "d773c03b",
   "metadata": {},
   "outputs": [
    {
     "data": {
      "text/plain": [
       "<tf.Tensor: shape=(2, 2, 2), dtype=int32, numpy=\n",
       "array([[[ 4,  5],\n",
       "        [ 8, 10]],\n",
       "\n",
       "       [[ 1,  2],\n",
       "        [ 2,  4]]], dtype=int32)>"
      ]
     },
     "execution_count": 8,
     "metadata": {},
     "output_type": "execute_result"
    }
   ],
   "source": [
    "tf.random.set_seed(42)\n",
    "shuffledTensor = tf.random.shuffle(varTensor)\n",
    "shuffledTensor"
   ]
  },
  {
   "cell_type": "code",
   "execution_count": 9,
   "id": "10584191",
   "metadata": {},
   "outputs": [
    {
     "data": {
      "text/plain": [
       "[<matplotlib.lines.Line2D at 0x7fd825687820>]"
      ]
     },
     "execution_count": 9,
     "metadata": {},
     "output_type": "execute_result"
    },
    {
     "data": {
      "image/png": "[encoded data removed]",
      "text/plain": [
       "<Figure size 432x288 with 1 Axes>"
      ]
     },
     "metadata": {
      "needs_background": "light"
     },
     "output_type": "display_data"
    }
   ],
   "source": [
    "randomVarScalar = tf.random.Generator.from_seed(42)\n",
    "randomVarScalar = randomVarScalar.normal(shape=(50, ))\n",
    "randomVarScalar = tf.random.shuffle(randomVarScalar)\n",
    "\n",
    "plt.plot(randomVarScalar[20:], color='r')"
   ]
  },
  {
   "cell_type": "code",
   "execution_count": 10,
   "id": "4894d0f2",
   "metadata": {},
   "outputs": [
    {
     "data": {
      "text/plain": [
       "<tf.Variable 'Variable:0' shape=(1, 3, 3) dtype=int32, numpy=\n",
       "array([[[1, 2, 3],\n",
       "        [4, 5, 6],\n",
       "        [7, 8, 9]]], dtype=int32)>"
      ]
     },
     "execution_count": 10,
     "metadata": {},
     "output_type": "execute_result"
    }
   ],
   "source": [
    "tempVar = tf.Variable([[[1,2,3], [4,5,6], [7,8,9]]])\n",
    "tempVar"
   ]
  },
  {
   "cell_type": "markdown",
   "id": "da882c39",
   "metadata": {},
   "source": [
    "## Assigning new values to tensor"
   ]
  },
  {
   "cell_type": "code",
   "execution_count": 11,
   "id": "139d47f4",
   "metadata": {},
   "outputs": [
    {
     "data": {
      "text/plain": [
       "<tf.Variable 'UnreadVariable' shape=() dtype=int32, numpy=9>"
      ]
     },
     "execution_count": 11,
     "metadata": {},
     "output_type": "execute_result"
    }
   ],
   "source": [
    "tempSc = tf.Variable(5)\n",
    "tempSc\n",
    "x = tempSc.assign(9)\n",
    "x"
   ]
  },
  {
   "cell_type": "code",
   "execution_count": 12,
   "id": "ea4710fe",
   "metadata": {},
   "outputs": [
    {
     "data": {
      "text/plain": [
       "<tf.Tensor: shape=(3, 2, 5), dtype=float32, numpy=\n",
       "array([[[0., 0., 0., 0., 0.],\n",
       "        [0., 0., 0., 0., 0.]],\n",
       "\n",
       "       [[0., 0., 0., 0., 0.],\n",
       "        [0., 0., 0., 0., 0.]],\n",
       "\n",
       "       [[0., 0., 0., 0., 0.],\n",
       "        [0., 0., 0., 0., 0.]]], dtype=float32)>"
      ]
     },
     "execution_count": 12,
     "metadata": {},
     "output_type": "execute_result"
    }
   ],
   "source": [
    "A_zeros = tf.zeros(shape=(3,2,5))\n",
    "A_zeros"
   ]
  },
  {
   "cell_type": "code",
   "execution_count": 13,
   "id": "6206d8fb",
   "metadata": {},
   "outputs": [
    {
     "data": {
      "text/plain": [
       "<tf.Tensor: shape=(3, 2, 3), dtype=float32, numpy=\n",
       "array([[[1., 1., 1.],\n",
       "        [1., 1., 1.]],\n",
       "\n",
       "       [[1., 1., 1.],\n",
       "        [1., 1., 1.]],\n",
       "\n",
       "       [[1., 1., 1.],\n",
       "        [1., 1., 1.]]], dtype=float32)>"
      ]
     },
     "execution_count": 13,
     "metadata": {},
     "output_type": "execute_result"
    }
   ],
   "source": [
    "A_ones = tf.ones([3, 2, 3])\n",
    "A_ones"
   ]
  },
  {
   "cell_type": "code",
   "execution_count": 14,
   "id": "3d3c8db4",
   "metadata": {},
   "outputs": [
    {
     "data": {
      "text/plain": [
       "(3,\n",
       " <tf.Tensor: shape=(3, 4, 2), dtype=int64, numpy=\n",
       " array([[[ 1,  2],\n",
       "         [ 3,  4],\n",
       "         [ 5,  6],\n",
       "         [ 7,  8]],\n",
       " \n",
       "        [[ 9, 10],\n",
       "         [11, 12],\n",
       "         [13, 14],\n",
       "         [15, 16]],\n",
       " \n",
       "        [[17, 18],\n",
       "         [19, 20],\n",
       "         [21, 22],\n",
       "         [23, 24]]])>)"
      ]
     },
     "execution_count": 14,
     "metadata": {},
     "output_type": "execute_result"
    }
   ],
   "source": [
    "numpy_X = np.array(np.arange(1, 25))\n",
    "tf_const_X = tf.constant(numpy_X, shape=(3, 4, 2))\n",
    "tf_const_X.ndim, tf_const_X"
   ]
  },
  {
   "cell_type": "code",
   "execution_count": 15,
   "id": "e62c98ec",
   "metadata": {},
   "outputs": [
    {
     "name": "stdout",
     "output_type": "stream",
     "text": [
      "<class 'tensorflow.python.ops.resource_variable_ops.ResourceVariable'>\n"
     ]
    }
   ],
   "source": [
    "numpy_X = numpy_X.reshape(2, 2, 6)\n",
    "tf_Var_X = tf.Variable(numpy_X)\n",
    "print(type(tf_Var_X))"
   ]
  },
  {
   "cell_type": "code",
   "execution_count": 16,
   "id": "cc0aaef7",
   "metadata": {},
   "outputs": [
    {
     "data": {
      "text/plain": [
       "<matplotlib.collections.PathCollection at 0x7fd8253485b0>"
      ]
     },
     "execution_count": 16,
     "metadata": {},
     "output_type": "execute_result"
    },
    {
     "data": {
      "image/png": "[encoded data removed]",
      "text/plain": [
       "<Figure size 432x288 with 1 Axes>"
      ]
     },
     "metadata": {
      "needs_background": "light"
     },
     "output_type": "display_data"
    }
   ],
   "source": [
    "plt.scatter(tf_Var_X/2, tf_const_X**10, color='r', marker='x')"
   ]
  },
  {
   "cell_type": "markdown",
   "id": "44d250fa",
   "metadata": {},
   "source": [
    "## Attributes of tensor"
   ]
  },
  {
   "cell_type": "code",
   "execution_count": 17,
   "id": "89a8a31b",
   "metadata": {},
   "outputs": [
    {
     "data": {
      "text/plain": [
       "<tf.Tensor: shape=(2, 2, 2), dtype=float32, numpy=\n",
       "array([[[-1., -1.],\n",
       "        [ 0., -2.]],\n",
       "\n",
       "       [[-1., -2.],\n",
       "        [ 0., -1.]]], dtype=float32)>"
      ]
     },
     "execution_count": 17,
     "metadata": {},
     "output_type": "execute_result"
    }
   ],
   "source": [
    "tensor_A = tf.random.Generator.from_seed(42)\n",
    "tensor_A = tf.floor(tensor_A.normal(shape=(2,2,2)))\n",
    "tensor_A"
   ]
  },
  {
   "cell_type": "code",
   "execution_count": 18,
   "id": "1fb025bf",
   "metadata": {},
   "outputs": [
    {
     "name": "stdout",
     "output_type": "stream",
     "text": [
      "Datatype of every element:  <dtype: 'float32'>\n",
      "Number of dimensions(Rank) 3\n",
      "Shape of tensor:  (2, 2, 2)\n",
      "Elements along the 0 axis:  2\n",
      "Elements along the last axis:  2\n",
      "Total # of elements in tensor:  tf.Tensor(8, shape=(), dtype=int32)\n",
      "Total # of elements in tensor (Numpy):  8\n"
     ]
    }
   ],
   "source": [
    "print(\"Datatype of every element: \", tensor_A.dtype)\n",
    "print(\"Number of dimensions(Rank)\", tensor_A.ndim)\n",
    "print(\"Shape of tensor: \", tensor_A.shape)\n",
    "print(\"Elements along the 0 axis: \", tensor_A.shape[0])\n",
    "print(\"Elements along the last axis: \", tensor_A.shape[-1])\n",
    "print(\"Total # of elements in tensor: \", tf.size(tensor_A))\n",
    "print(\"Total # of elements in tensor (Numpy): \", tf.size(tensor_A).numpy())"
   ]
  },
  {
   "cell_type": "markdown",
   "id": "958ec24e",
   "metadata": {},
   "source": [
    "## Practice"
   ]
  },
  {
   "cell_type": "code",
   "execution_count": 19,
   "id": "246ab507",
   "metadata": {},
   "outputs": [],
   "source": [
    "# A = tf.random.Generator.from_seed(10)\n",
    "tf.random.set_seed(1)\n",
    "A = tf.floor((tf.random.uniform(shape=(10,), minval=0, maxval=10)))\n",
    "B = tf.floor(tf.random.normal(shape=(10,)))\n",
    "A = tf.random.shuffle(A)\n",
    "B = tf.random.shuffle(B)"
   ]
  },
  {
   "cell_type": "code",
   "execution_count": 20,
   "id": "ef14c04a",
   "metadata": {},
   "outputs": [
    {
     "data": {
      "text/plain": [
       "(<tf.Tensor: shape=(10,), dtype=float32, numpy=array([6., 1., 6., 2., 9., 6., 6., 4., 9., 4.], dtype=float32)>,\n",
       " <tf.Tensor: shape=(10,), dtype=float32, numpy=array([-2.,  0., -2., -1.,  0., -1.,  1.,  0., -2., -1.], dtype=float32)>)"
      ]
     },
     "execution_count": 20,
     "metadata": {},
     "output_type": "execute_result"
    }
   ],
   "source": [
    "A, B"
   ]
  },
  {
   "cell_type": "code",
   "execution_count": 21,
   "id": "03121cc3",
   "metadata": {},
   "outputs": [
    {
     "data": {
      "text/plain": [
       "[<matplotlib.lines.Line2D at 0x7fd8252d08e0>]"
      ]
     },
     "execution_count": 21,
     "metadata": {},
     "output_type": "execute_result"
    },
    {
     "data": {
      "image/png": "[encoded data removed]",
      "text/plain": [
       "<Figure size 432x288 with 1 Axes>"
      ]
     },
     "metadata": {
      "needs_background": "light"
     },
     "output_type": "display_data"
    }
   ],
   "source": [
    "plt.plot([1,2,3,4,5,6,7,8,9,10], A)\n",
    "plt.plot([1,2,3,4,5,6,7,8,9,10], B)"
   ]
  },
  {
   "cell_type": "code",
   "execution_count": 22,
   "id": "b065ebbf",
   "metadata": {},
   "outputs": [
    {
     "data": {
      "text/plain": [
       "<BarContainer object of 10 artists>"
      ]
     },
     "execution_count": 22,
     "metadata": {},
     "output_type": "execute_result"
    },
    {
     "data": {
      "image/png": "[encoded data removed]",
      "text/plain": [
       "<Figure size 432x288 with 1 Axes>"
      ]
     },
     "metadata": {
      "needs_background": "light"
     },
     "output_type": "display_data"
    }
   ],
   "source": [
    "plt.bar([1,2,3,4,5,6,7,8,9, 10], A)\n",
    "plt.bar([1,2,3,4,5,6,7,8,9, 10], B)"
   ]
  },
  {
   "cell_type": "markdown",
   "id": "3a5913ac",
   "metadata": {},
   "source": [
    "## Indexing Tensors"
   ]
  },
  {
   "cell_type": "code",
   "execution_count": 23,
   "id": "9d1f8829",
   "metadata": {},
   "outputs": [
    {
     "data": {
      "text/plain": [
       "<tf.Variable 'Variable:0' shape=(2, 2) dtype=int32, numpy=\n",
       "array([[1, 2],\n",
       "       [3, 4]], dtype=int32)>"
      ]
     },
     "execution_count": 23,
     "metadata": {},
     "output_type": "execute_result"
    }
   ],
   "source": [
    "I_tensor = tf.Variable([[1, 2], \n",
    "                        [3, 4]])\n",
    "I_tensor"
   ]
  },
  {
   "cell_type": "code",
   "execution_count": 24,
   "id": "d8858250",
   "metadata": {},
   "outputs": [
    {
     "data": {
      "text/plain": [
       "<tf.Tensor: shape=(), dtype=int32, numpy=4>"
      ]
     },
     "execution_count": 24,
     "metadata": {},
     "output_type": "execute_result"
    }
   ],
   "source": [
    "I_tensor[1][1]"
   ]
  },
  {
   "cell_type": "code",
   "execution_count": 25,
   "id": "94707814",
   "metadata": {},
   "outputs": [
    {
     "data": {
      "text/plain": [
       "<tf.Tensor: shape=(2,), dtype=int32, numpy=array([3, 4], dtype=int32)>"
      ]
     },
     "execution_count": 25,
     "metadata": {},
     "output_type": "execute_result"
    }
   ],
   "source": [
    "I_tensor[1, :]"
   ]
  },
  {
   "cell_type": "code",
   "execution_count": 26,
   "id": "7eb852c1",
   "metadata": {},
   "outputs": [
    {
     "data": {
      "text/plain": [
       "<tf.Tensor: shape=(), dtype=int32, numpy=3>"
      ]
     },
     "execution_count": 26,
     "metadata": {},
     "output_type": "execute_result"
    }
   ],
   "source": [
    "I_tensor[1, 0]"
   ]
  },
  {
   "cell_type": "code",
   "execution_count": 27,
   "id": "9a17540f",
   "metadata": {},
   "outputs": [
    {
     "data": {
      "text/plain": [
       "<tf.Tensor: shape=(1, 2, 2), dtype=int32, numpy=\n",
       "array([[[1, 2],\n",
       "        [3, 4]]], dtype=int32)>"
      ]
     },
     "execution_count": 27,
     "metadata": {},
     "output_type": "execute_result"
    }
   ],
   "source": [
    "tf.expand_dims(I_tensor, axis=0)"
   ]
  },
  {
   "cell_type": "code",
   "execution_count": 28,
   "id": "a74c47f4",
   "metadata": {},
   "outputs": [],
   "source": [
    "I_tensor = I_tensor[..., tf.newaxis]"
   ]
  },
  {
   "cell_type": "code",
   "execution_count": 29,
   "id": "6a34437c",
   "metadata": {},
   "outputs": [],
   "source": [
    "I_tensor = I_tensor[tf.newaxis, ...]\n",
    "I_tensor = I_tensor[tf.newaxis, ...]"
   ]
  },
  {
   "cell_type": "code",
   "execution_count": 30,
   "id": "e30497a1",
   "metadata": {},
   "outputs": [
    {
     "data": {
      "text/plain": [
       "<tf.Tensor: shape=(1, 1, 2, 2, 1), dtype=int32, numpy=\n",
       "array([[[[[1],\n",
       "          [2]],\n",
       "\n",
       "         [[3],\n",
       "          [4]]]]], dtype=int32)>"
      ]
     },
     "execution_count": 30,
     "metadata": {},
     "output_type": "execute_result"
    }
   ],
   "source": [
    "I_tensor"
   ]
  },
  {
   "cell_type": "code",
   "execution_count": 31,
   "id": "3eac2331",
   "metadata": {},
   "outputs": [
    {
     "data": {
      "text/plain": [
       "<tf.Tensor: shape=(2, 2), dtype=int32, numpy=\n",
       "array([[1, 2],\n",
       "       [3, 4]], dtype=int32)>"
      ]
     },
     "execution_count": 31,
     "metadata": {},
     "output_type": "execute_result"
    }
   ],
   "source": [
    "tf.reshape(I_tensor, shape=(2,2))"
   ]
  },
  {
   "cell_type": "markdown",
   "id": "d1c8ebc4",
   "metadata": {},
   "source": [
    "## Manipulating tensors (Operations)\n",
    "\n",
    "**Basic Operations**\n",
    "`+`, `-`, `*`, `/`"
   ]
  },
  {
   "cell_type": "code",
   "execution_count": 32,
   "id": "46550f34",
   "metadata": {},
   "outputs": [
    {
     "data": {
      "text/plain": [
       "<tf.Tensor: shape=(2, 2), dtype=float32, numpy=\n",
       "array([[9., 6.],\n",
       "       [3., 0.]], dtype=float32)>"
      ]
     },
     "execution_count": 32,
     "metadata": {},
     "output_type": "execute_result"
    }
   ],
   "source": [
    "M_tensor = tf.random.Generator.from_seed(10)\n",
    "M_tensor = tf.floor(M_tensor.uniform(shape=(2,2), minval=0, maxval=10))\n",
    "M_tensor"
   ]
  },
  {
   "cell_type": "code",
   "execution_count": 33,
   "id": "837196a9",
   "metadata": {},
   "outputs": [
    {
     "data": {
      "text/plain": [
       "<tf.Tensor: shape=(2, 2), dtype=float32, numpy=\n",
       "array([[4.5, 3. ],\n",
       "       [1.5, 0. ]], dtype=float32)>"
      ]
     },
     "execution_count": 33,
     "metadata": {},
     "output_type": "execute_result"
    }
   ],
   "source": [
    "M_tensor + 10\n",
    "M_tensor - 2\n",
    "M_tensor * 10\n",
    "M_tensor / 2"
   ]
  },
  {
   "cell_type": "code",
   "execution_count": 34,
   "id": "0e247c18",
   "metadata": {},
   "outputs": [
    {
     "data": {
      "text/plain": [
       "<tf.Tensor: shape=(2, 2), dtype=float32, numpy=\n",
       "array([[9., 6.],\n",
       "       [3., 0.]], dtype=float32)>"
      ]
     },
     "execution_count": 34,
     "metadata": {},
     "output_type": "execute_result"
    }
   ],
   "source": [
    "# Doesn't change the original tensor\n",
    "M_tensor"
   ]
  },
  {
   "cell_type": "code",
   "execution_count": 35,
   "id": "bb6d3146",
   "metadata": {},
   "outputs": [
    {
     "data": {
      "text/plain": [
       "<tf.Tensor: shape=(2, 2), dtype=float32, numpy=\n",
       "array([[19., 16.],\n",
       "       [13., 10.]], dtype=float32)>"
      ]
     },
     "execution_count": 35,
     "metadata": {},
     "output_type": "execute_result"
    }
   ],
   "source": [
    "# Assignment Operation\n",
    "M_tensor = M_tensor + 10\n",
    "M_tensor"
   ]
  },
  {
   "cell_type": "code",
   "execution_count": 36,
   "id": "574c483c",
   "metadata": {},
   "outputs": [
    {
     "data": {
      "text/plain": [
       "<tf.Tensor: shape=(2, 2), dtype=float32, numpy=\n",
       "array([[950., 800.],\n",
       "       [650., 500.]], dtype=float32)>"
      ]
     },
     "execution_count": 36,
     "metadata": {},
     "output_type": "execute_result"
    }
   ],
   "source": [
    "# Using tensorflow builtin functions\n",
    "M_tensor = tf.multiply(M_tensor, 50)\n",
    "M_tensor"
   ]
  },
  {
   "cell_type": "markdown",
   "id": "c25b59ae",
   "metadata": {},
   "source": [
    "## Matrix Multiplication"
   ]
  },
  {
   "cell_type": "code",
   "execution_count": 37,
   "id": "190fde05",
   "metadata": {},
   "outputs": [
    {
     "data": {
      "text/plain": [
       "(<tf.Tensor: shape=(2, 3), dtype=int32, numpy=\n",
       " array([[ 1,  2,  3],\n",
       "        [10, 20, 30]], dtype=int32)>,\n",
       " <tf.Tensor: shape=(3, 2), dtype=int32, numpy=\n",
       " array([[2, 2],\n",
       "        [3, 4],\n",
       "        [0, 1]], dtype=int32)>,\n",
       " <tf.Tensor: shape=(2, 2), dtype=int32, numpy=\n",
       " array([[  8,  13],\n",
       "        [ 80, 130]], dtype=int32)>)"
      ]
     },
     "execution_count": 37,
     "metadata": {},
     "output_type": "execute_result"
    }
   ],
   "source": [
    "X = tf.constant([[1,2,3], \n",
    "                 [10, 20, 30]])\n",
    "Y = tf.constant([[2, 2], \n",
    "                 [3, 4], \n",
    "                 [0, 1]])\n",
    "\n",
    "X, Y, tf.matmul(X, Y)"
   ]
  },
  {
   "cell_type": "code",
   "execution_count": 38,
   "id": "46b85251",
   "metadata": {},
   "outputs": [
    {
     "data": {
      "text/plain": [
       "<tf.Tensor: shape=(3, 3), dtype=int32, numpy=\n",
       "array([[ 22,  43,  10],\n",
       "       [ 44,  86,  20],\n",
       "       [ 66, 129,  30]], dtype=int32)>"
      ]
     },
     "execution_count": 38,
     "metadata": {},
     "output_type": "execute_result"
    }
   ],
   "source": [
    "tf.matmul(tf.transpose(X), tf.transpose(Y))"
   ]
  },
  {
   "cell_type": "code",
   "execution_count": 39,
   "id": "285ebd2a",
   "metadata": {},
   "outputs": [
    {
     "data": {
      "text/plain": [
       "<tf.Tensor: shape=(2, 3), dtype=int32, numpy=\n",
       "array([[7, 2, 1],\n",
       "       [2, 8, 7]], dtype=int32)>"
      ]
     },
     "execution_count": 39,
     "metadata": {},
     "output_type": "execute_result"
    }
   ],
   "source": [
    "Z = tf.cast(tf.floor(tf.random.uniform(shape=(2, 3), minval=1, maxval=10)), dtype=tf.int32)\n",
    "Z"
   ]
  },
  {
   "cell_type": "code",
   "execution_count": 40,
   "id": "1398e79f",
   "metadata": {},
   "outputs": [
    {
     "data": {
      "text/plain": [
       "<tf.Tensor: shape=(3, 3), dtype=int32, numpy=\n",
       "array([[ 11,  18,  15],\n",
       "       [ 41,  86,  73],\n",
       "       [200, 280, 230]], dtype=int32)>"
      ]
     },
     "execution_count": 40,
     "metadata": {},
     "output_type": "execute_result"
    }
   ],
   "source": [
    "tf.matmul(tf.reshape(X, shape=(3, 2)), Z)"
   ]
  },
  {
   "cell_type": "code",
   "execution_count": 41,
   "id": "5e39ad4d",
   "metadata": {},
   "outputs": [
    {
     "data": {
      "text/plain": [
       "<tf.Tensor: shape=(2, 2), dtype=int32, numpy=\n",
       "array([[  14,  140],\n",
       "       [ 140, 1400]], dtype=int32)>"
      ]
     },
     "execution_count": 41,
     "metadata": {},
     "output_type": "execute_result"
    }
   ],
   "source": [
    "# Doing the reshape op with transpose but different results\n",
    "tf.matmul(X, tf.transpose(X))"
   ]
  },
  {
   "cell_type": "code",
   "execution_count": 42,
   "id": "c3bf84b0",
   "metadata": {},
   "outputs": [
    {
     "data": {
      "text/plain": [
       "<tf.Tensor: shape=(2, 2), dtype=int32, numpy=\n",
       "array([[  8,  13],\n",
       "       [ 80, 130]], dtype=int32)>"
      ]
     },
     "execution_count": 42,
     "metadata": {},
     "output_type": "execute_result"
    }
   ],
   "source": [
    "# Same as tf.matmul\n",
    "tf.tensordot(X, Y, axes=1)"
   ]
  },
  {
   "cell_type": "code",
   "execution_count": 43,
   "id": "208fce9c",
   "metadata": {},
   "outputs": [
    {
     "data": {
      "text/plain": [
       "<tf.Tensor: shape=(2, 2), dtype=int32, numpy=\n",
       "array([[  8,  13],\n",
       "       [ 80, 130]], dtype=int32)>"
      ]
     },
     "execution_count": 43,
     "metadata": {},
     "output_type": "execute_result"
    }
   ],
   "source": [
    "# Based on equations\n",
    "tf.einsum('ij, jk->ik', X, Y)"
   ]
  },
  {
   "cell_type": "markdown",
   "id": "9aa7028f",
   "metadata": {},
   "source": [
    "### Note: Use tf.transpose instead of tf.reshape for performing matrix multiplication when two tansors` shape don't match to satisfy the matrix multiplication rule"
   ]
  },
  {
   "cell_type": "markdown",
   "id": "a70bbb27",
   "metadata": {},
   "source": [
    "## Changing tensor datatypes"
   ]
  },
  {
   "cell_type": "code",
   "execution_count": 44,
   "id": "def898ec",
   "metadata": {},
   "outputs": [
    {
     "data": {
      "text/plain": [
       "(tf.int32, tf.float32)"
      ]
     },
     "execution_count": 44,
     "metadata": {},
     "output_type": "execute_result"
    }
   ],
   "source": [
    "dt_tensor1 = tf.constant([1, 2, 3])\n",
    "dt_tensor2 = tf.constant([1.5, 2.2, 3.1])\n",
    "\n",
    "dt_tensor1.dtype, dt_tensor2.dtype"
   ]
  },
  {
   "cell_type": "markdown",
   "id": "3822e191",
   "metadata": {},
   "source": [
    "**Note: Default = int32 OR float32, but change into 16 bit precision for making the training process faster and use less memory**"
   ]
  },
  {
   "cell_type": "code",
   "execution_count": 45,
   "id": "02ead418",
   "metadata": {},
   "outputs": [
    {
     "data": {
      "text/plain": [
       "(tf.int16, tf.float16)"
      ]
     },
     "execution_count": 45,
     "metadata": {},
     "output_type": "execute_result"
    }
   ],
   "source": [
    "dt_tensor1 = tf.cast(dt_tensor1, dtype=tf.int16)\n",
    "dt_tensor2 = tf.cast(dt_tensor2, dtype=tf.float16)\n",
    "\n",
    "dt_tensor1.dtype, dt_tensor2.dtype"
   ]
  },
  {
   "cell_type": "markdown",
   "id": "9d12d712",
   "metadata": {},
   "source": [
    "## Aggregating tensors"
   ]
  },
  {
   "cell_type": "code",
   "execution_count": 46,
   "id": "da4cf85d",
   "metadata": {},
   "outputs": [
    {
     "data": {
      "text/plain": [
       "<tf.Tensor: shape=(3,), dtype=int32, numpy=array([2, 2, 3], dtype=int32)>"
      ]
     },
     "execution_count": 46,
     "metadata": {},
     "output_type": "execute_result"
    }
   ],
   "source": [
    "# Getting absolute value\n",
    "\n",
    "agg_tensor = tf.Variable([1,2,3])\n",
    "agg_tensor[0].assign(-2)\n",
    "tf.abs(agg_tensor)"
   ]
  },
  {
   "cell_type": "code",
   "execution_count": 47,
   "id": "162683d0",
   "metadata": {},
   "outputs": [
    {
     "data": {
      "text/plain": [
       "(<tf.Tensor: shape=(), dtype=int32, numpy=-2>,\n",
       " <tf.Tensor: shape=(), dtype=int32, numpy=3>,\n",
       " <tf.Tensor: shape=(), dtype=int32, numpy=1>,\n",
       " <tf.Tensor: shape=(), dtype=int32, numpy=3>)"
      ]
     },
     "execution_count": 47,
     "metadata": {},
     "output_type": "execute_result"
    }
   ],
   "source": [
    "# Min, Max, Mean, Sum of tensor\n",
    "tf.reduce_min(agg_tensor), tf.reduce_max(agg_tensor), tf.reduce_mean(agg_tensor), tf.reduce_sum(agg_tensor)"
   ]
  },
  {
   "cell_type": "code",
   "execution_count": 48,
   "id": "ae38b483",
   "metadata": {},
   "outputs": [],
   "source": [
    "# Variance, Std. dev\n",
    "import tensorflow_probability as tfp"
   ]
  },
  {
   "cell_type": "code",
   "execution_count": 49,
   "id": "13c842ea",
   "metadata": {},
   "outputs": [
    {
     "data": {
      "text/plain": [
       "<tf.Tensor: shape=(), dtype=int32, numpy=4>"
      ]
     },
     "execution_count": 49,
     "metadata": {},
     "output_type": "execute_result"
    }
   ],
   "source": [
    "tfp.stats.variance(agg_tensor)"
   ]
  },
  {
   "cell_type": "code",
   "execution_count": 50,
   "id": "d666ca66",
   "metadata": {},
   "outputs": [
    {
     "data": {
      "text/plain": [
       "<tf.Tensor: shape=(), dtype=float16, numpy=4.668>"
      ]
     },
     "execution_count": 50,
     "metadata": {},
     "output_type": "execute_result"
    }
   ],
   "source": [
    "agg_tensor = tf.cast(agg_tensor, dtype=tf.float16)\n",
    "tf.math.reduce_variance(agg_tensor)"
   ]
  },
  {
   "cell_type": "markdown",
   "id": "7bb23f52",
   "metadata": {},
   "source": [
    "### Finding Positional Maximum and Minimum"
   ]
  },
  {
   "cell_type": "code",
   "execution_count": 51,
   "id": "56f295d3",
   "metadata": {},
   "outputs": [
    {
     "data": {
      "text/plain": [
       "<tf.Tensor: shape=(10, 2), dtype=float32, numpy=\n",
       "array([[-0.8757808 ,  0.3356369 ],\n",
       "       [-0.35219625, -0.30314562],\n",
       "       [-0.03882965,  0.96529824],\n",
       "       [ 0.62538046,  2.6650238 ],\n",
       "       [-0.46370643, -0.92393184],\n",
       "       [-1.0020103 , -1.9497077 ],\n",
       "       [ 1.0608296 ,  1.2749594 ],\n",
       "       [ 0.71811   ,  0.6823033 ],\n",
       "       [ 0.18500848,  0.42902163],\n",
       "       [-0.48913226,  0.23932166]], dtype=float32)>"
      ]
     },
     "execution_count": 51,
     "metadata": {},
     "output_type": "execute_result"
    }
   ],
   "source": [
    "tf.random.set_seed(10)\n",
    "pos_tensor = tf.random.normal(shape=(10,2))\n",
    "pos_tensor"
   ]
  },
  {
   "cell_type": "code",
   "execution_count": 52,
   "id": "f8cb4ff1",
   "metadata": {},
   "outputs": [
    {
     "data": {
      "text/plain": [
       "(array([6, 3]),\n",
       " <tf.Tensor: shape=(), dtype=float32, numpy=1.2749594>,\n",
       " <tf.Tensor: shape=(), dtype=float32, numpy=2.6650238>)"
      ]
     },
     "execution_count": 52,
     "metadata": {},
     "output_type": "execute_result"
    }
   ],
   "source": [
    "tf.argmax(pos_tensor).numpy() ,pos_tensor[[6, 1]], pos_tensor[[3, 1]]"
   ]
  },
  {
   "cell_type": "code",
   "execution_count": 53,
   "id": "b004e980",
   "metadata": {},
   "outputs": [
    {
     "data": {
      "text/plain": [
       "(<tf.Tensor: shape=(), dtype=float32, numpy=1.2749594>,\n",
       " <tf.Tensor: shape=(), dtype=float32, numpy=2.6650238>)"
      ]
     },
     "execution_count": 53,
     "metadata": {},
     "output_type": "execute_result"
    }
   ],
   "source": [
    "dims_max = tf.argmax(pos_tensor).numpy()\n",
    "pos_tensor[[dims_max[0], 1]], pos_tensor[[dims_max[1], 1]]"
   ]
  },
  {
   "cell_type": "code",
   "execution_count": 54,
   "id": "bf5aa7af",
   "metadata": {},
   "outputs": [
    {
     "data": {
      "text/plain": [
       "(<tf.Tensor: shape=(), dtype=float32, numpy=-1.0020103>,\n",
       " <tf.Tensor: shape=(), dtype=float32, numpy=-1.9497077>)"
      ]
     },
     "execution_count": 54,
     "metadata": {},
     "output_type": "execute_result"
    }
   ],
   "source": [
    "dims_min = tf.argmin(pos_tensor)\n",
    "pos_tensor[[dims_min[0], 0]], pos_tensor[[dims_min[1], 1]]"
   ]
  },
  {
   "cell_type": "markdown",
   "id": "fb2eb4a4",
   "metadata": {},
   "source": [
    "## Squeezing a tensor (Removing all single dimensions)\n",
    "\n",
    "If your tensor has single dimensions and want to remove them like (1,1,1,50, 1) to (50) then use tf.squeeze()"
   ]
  },
  {
   "cell_type": "code",
   "execution_count": 55,
   "id": "aec0bded",
   "metadata": {},
   "outputs": [
    {
     "data": {
      "text/plain": [
       "(<tf.Tensor: shape=(1, 1, 1, 1, 50), dtype=float32, numpy=\n",
       " array([[[[[-8.7578082e-01,  3.3563691e-01, -3.5219625e-01,\n",
       "            -3.0314562e-01, -3.8829651e-02,  9.6529824e-01,\n",
       "             6.2538046e-01,  2.6650238e+00, -4.6370643e-01,\n",
       "            -9.2393184e-01, -1.0020103e+00, -1.9497077e+00,\n",
       "             1.0608296e+00,  1.2749594e+00,  7.1811002e-01,\n",
       "             6.8230331e-01,  1.8500848e-01,  4.2902163e-01,\n",
       "            -4.8913226e-01,  2.3932166e-01, -1.3439546e+00,\n",
       "             1.3551770e-01,  1.1242433e+00, -5.6185687e-01,\n",
       "             1.0946635e+00, -5.8914822e-01,  5.4948777e-01,\n",
       "             3.4412482e-01, -1.2461275e+00, -1.8717276e+00,\n",
       "            -5.1337874e-01,  8.2369035e-01, -1.3095583e-01,\n",
       "             4.7080812e-01, -2.0028423e-03,  1.2873838e+00,\n",
       "            -1.4886124e+00,  7.9556221e-01, -9.2247492e-01,\n",
       "             6.1526114e-01, -5.1460862e-01,  1.3799419e+00,\n",
       "            -2.0532393e+00, -8.2675475e-01, -5.8801931e-01,\n",
       "             9.5981181e-01, -6.8919384e-01,  2.2478817e+00,\n",
       "            -2.9516056e-01, -5.6683683e-01]]]]], dtype=float32)>,\n",
       " 5)"
      ]
     },
     "execution_count": 55,
     "metadata": {},
     "output_type": "execute_result"
    }
   ],
   "source": [
    "tf.random.set_seed(10)\n",
    "sq_tensor = tf.constant(tf.random.normal(shape=(1,1,1,1,50)))\n",
    "sq_tensor, sq_tensor.ndim"
   ]
  },
  {
   "cell_type": "code",
   "execution_count": 56,
   "id": "77bb3179",
   "metadata": {},
   "outputs": [
    {
     "data": {
      "text/plain": [
       "(TensorShape([50]), 1)"
      ]
     },
     "execution_count": 56,
     "metadata": {},
     "output_type": "execute_result"
    }
   ],
   "source": [
    "squeezed = tf.squeeze(sq_tensor)\n",
    "squeezed.shape, squeezed.ndim"
   ]
  },
  {
   "cell_type": "markdown",
   "id": "ef18ddf6",
   "metadata": {},
   "source": [
    "## One-hot encoding tensors"
   ]
  },
  {
   "cell_type": "code",
   "execution_count": 57,
   "id": "67b5d836",
   "metadata": {},
   "outputs": [
    {
     "data": {
      "text/plain": [
       "<tf.Tensor: shape=(5, 12), dtype=float32, numpy=\n",
       "array([[1., 0., 0., 0., 0., 0., 0., 0., 0., 0., 0., 0.],\n",
       "       [0., 0., 0., 0., 0., 0., 0., 0., 0., 0., 0., 0.],\n",
       "       [0., 0., 1., 0., 0., 0., 0., 0., 0., 0., 0., 0.],\n",
       "       [0., 0., 0., 0., 0., 1., 0., 0., 0., 0., 0., 0.],\n",
       "       [0., 0., 0., 0., 0., 0., 0., 0., 0., 0., 1., 0.]], dtype=float32)>"
      ]
     },
     "execution_count": 57,
     "metadata": {},
     "output_type": "execute_result"
    }
   ],
   "source": [
    "lst = [0,-1,2, 5, 10]\n",
    "tf.one_hot(lst, depth=12)\n",
    "\n",
    "# -1 will be assigned row with all zeros"
   ]
  },
  {
   "cell_type": "code",
   "execution_count": 58,
   "id": "54cb1d6a",
   "metadata": {},
   "outputs": [
    {
     "data": {
      "text/plain": [
       "<tf.Tensor: shape=(5, 11), dtype=string, numpy=\n",
       "array([[b'X', b'O', b'O', b'O', b'O', b'O', b'O', b'O', b'O', b'O', b'O'],\n",
       "       [b'O', b'O', b'O', b'O', b'O', b'O', b'O', b'O', b'O', b'O', b'O'],\n",
       "       [b'O', b'O', b'X', b'O', b'O', b'O', b'O', b'O', b'O', b'O', b'O'],\n",
       "       [b'O', b'O', b'O', b'O', b'O', b'X', b'O', b'O', b'O', b'O', b'O'],\n",
       "       [b'O', b'O', b'O', b'O', b'O', b'O', b'O', b'O', b'O', b'O', b'X']],\n",
       "      dtype=object)>"
      ]
     },
     "execution_count": 58,
     "metadata": {},
     "output_type": "execute_result"
    }
   ],
   "source": [
    "tf.one_hot(lst, depth=11, on_value='X', off_value='O')"
   ]
  },
  {
   "cell_type": "code",
   "execution_count": 74,
   "id": "666c3763",
   "metadata": {},
   "outputs": [
    {
     "data": {
      "text/plain": [
       "<tf.Tensor: shape=(2, 3, 6), dtype=int16, numpy=\n",
       "array([[[1, 0, 0, 0, 0, 0],\n",
       "        [0, 1, 0, 0, 0, 0],\n",
       "        [0, 0, 1, 0, 0, 0]],\n",
       "\n",
       "       [[0, 0, 0, 1, 0, 0],\n",
       "        [0, 0, 0, 0, 1, 0],\n",
       "        [0, 0, 0, 0, 0, 1]]], dtype=int16)>"
      ]
     },
     "execution_count": 74,
     "metadata": {},
     "output_type": "execute_result"
    }
   ],
   "source": [
    "# One-hot from N-dim tensor\n",
    "temp_tensor = tf.constant([[0, 1, 2], [3,4,5]])\n",
    "oh_tensor = tf.one_hot(temp_tensor, depth=6, dtype=tf.int16)\n",
    "oh_tensor"
   ]
  },
  {
   "cell_type": "markdown",
   "id": "012a4ffd",
   "metadata": {},
   "source": [
    "## Tensors and Numpy"
   ]
  },
  {
   "cell_type": "code",
   "execution_count": 77,
   "id": "109a56ff",
   "metadata": {},
   "outputs": [
    {
     "data": {
      "text/plain": [
       "(<tf.Tensor: shape=(3,), dtype=int64, numpy=array([1, 2, 3])>, tf.int64)"
      ]
     },
     "execution_count": 77,
     "metadata": {},
     "output_type": "execute_result"
    }
   ],
   "source": [
    "np_tensor = tf.constant(np.array([1,2,3]))\n",
    "np_tensor, np_tensor.dtype"
   ]
  },
  {
   "cell_type": "code",
   "execution_count": 81,
   "id": "a523eb0b",
   "metadata": {},
   "outputs": [
    {
     "data": {
      "text/plain": [
       "(array([1, 2, 3]), numpy.ndarray, array([1, 2, 3]))"
      ]
     },
     "execution_count": 81,
     "metadata": {},
     "output_type": "execute_result"
    }
   ],
   "source": [
    "np.array(np_tensor), type(np_tensor.numpy()), np_tensor.numpy()"
   ]
  },
  {
   "cell_type": "code",
   "execution_count": 86,
   "id": "f045d276",
   "metadata": {},
   "outputs": [
    {
     "data": {
      "text/plain": [
       "(tf.int64, tf.int32)"
      ]
     },
     "execution_count": 86,
     "metadata": {},
     "output_type": "execute_result"
    }
   ],
   "source": [
    "# Note: default type when creating tensor from numpy is different than creating direct tensor\n",
    "numpy_tensor = tf.constant(np.arange(0,5)) #int64\n",
    "tf_tensor = tf.constant([0,1,2,3,4,5]) #int32\n",
    "\n",
    "numpy_tensor.dtype, tf_tensor.dtype"
   ]
  },
  {
   "cell_type": "code",
   "execution_count": 88,
   "id": "29971a07",
   "metadata": {},
   "outputs": [
    {
     "data": {
      "text/plain": [
       "(tf.int32, tf.int32)"
      ]
     },
     "execution_count": 88,
     "metadata": {},
     "output_type": "execute_result"
    }
   ],
   "source": [
    "# use casting for above problem on anyone\n",
    "numpy_tensor = tf.cast(numpy_tensor, dtype=tf.int32)\n",
    "numpy_tensor.dtype, tf_tensor.dtype"
   ]
  },
  {
   "cell_type": "code",
   "execution_count": null,
   "id": "2654ec8e",
   "metadata": {},
   "outputs": [],
   "source": []
  }
 ],
 "metadata": {
  "kernelspec": {
   "display_name": "Python 3 (ipykernel)",
   "language": "python",
   "name": "python3"
  },
  "language_info": {
   "codemirror_mode": {
    "name": "ipython",
    "version": 3
   },
   "file_extension": ".py",
   "mimetype": "text/x-python",
   "name": "python",
   "nbconvert_exporter": "python",
   "pygments_lexer": "ipython3",
   "version": "3.10.6"
  }
 },
 "nbformat": 4,
 "nbformat_minor": 5
}
