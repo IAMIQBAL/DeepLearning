{
 "cells": [
  {
   "cell_type": "code",
   "execution_count": 71,
   "id": "a53b3ebf",
   "metadata": {},
   "outputs": [],
   "source": [
    "import tensorflow as tf\n",
    "import numpy as np\n",
    "import matplotlib.pyplot as plt\n",
    "import pandas as pd"
   ]
  },
  {
   "cell_type": "markdown",
   "id": "dd22a1a6",
   "metadata": {},
   "source": [
    "## Steps in Modelling with Tensorflow\n",
    "\n",
    "**1) Creating a model**<br>\n",
    "**2) Compiling a model**<br>\n",
    "**3) Fitting a model**"
   ]
  },
  {
   "cell_type": "code",
   "execution_count": 72,
   "id": "426256f5",
   "metadata": {},
   "outputs": [],
   "source": [
    "# X = tf.constant(np.arange(0, 20, 2), dtype=tf.int16)\n",
    "# y = tf.constant([10, 20, 30, 40, 50, 60, 70, 80, 90, 100], dtype=tf.int16)\n",
    "# tf.size(X), tf.size(y)\n",
    "X = np.arange(1,1000)\n",
    "y = np.arange(1, 1998, 2)\n",
    "# y == X * 2\n",
    "X = tf.constant(X)\n",
    "X= tf.reshape(X, shape=(999,1))\n",
    "y = tf.constant(y)\n",
    "# y = tf.reshape(y, shape=(9,1))"
   ]
  },
  {
   "cell_type": "code",
   "execution_count": 73,
   "id": "4796c6e2",
   "metadata": {},
   "outputs": [
    {
     "data": {
      "text/plain": [
       "(<tf.Tensor: shape=(), dtype=int32, numpy=999>,\n",
       " <tf.Tensor: shape=(), dtype=int32, numpy=999>)"
      ]
     },
     "execution_count": 73,
     "metadata": {},
     "output_type": "execute_result"
    },
    {
     "data": {
      "image/png": "[encoded data removed]",
      "text/plain": [
       "<Figure size 432x288 with 1 Axes>"
      ]
     },
     "metadata": {
      "needs_background": "light"
     },
     "output_type": "display_data"
    }
   ],
   "source": [
    "plt.scatter(X, y)\n",
    "tf.size(X), tf.size(y)"
   ]
  },
  {
   "cell_type": "code",
   "execution_count": 74,
   "id": "244c6b83",
   "metadata": {},
   "outputs": [],
   "source": [
    "# Create our model\n",
    "tf.random.set_seed(42)\n",
    "model = tf.keras.Sequential([\n",
    "    tf.keras.layers.Dense(1000, activation=None),\n",
    "    tf.keras.layers.Dense(100, activation=\"relu\"),\n",
    "    tf.keras.layers.Dense(1)\n",
    "\n",
    "])"
   ]
  },
  {
   "cell_type": "code",
   "execution_count": 75,
   "id": "bf1824e8",
   "metadata": {},
   "outputs": [],
   "source": [
    "# Compile our model\n",
    "# tf.random.set_seed(42)\n",
    "\n",
    "model.compile(loss=tf.keras.losses.mae,\n",
    "             optimizer=tf.keras.optimizers.Adagrad(),\n",
    "             metrics=[\"mae\"])"
   ]
  },
  {
   "cell_type": "code",
   "execution_count": 76,
   "id": "55e894d4",
   "metadata": {},
   "outputs": [
    {
     "data": {
      "text/plain": [
       "<keras.callbacks.History at 0x7fc2d8c79c70>"
      ]
     },
     "execution_count": 76,
     "metadata": {},
     "output_type": "execute_result"
    }
   ],
   "source": [
    "# tf.random.set_seed(42)\n",
    "model.fit(X, y, epochs=250, batch_size=100, verbose=0)"
   ]
  },
  {
   "cell_type": "code",
   "execution_count": 77,
   "id": "aa910a80",
   "metadata": {},
   "outputs": [
    {
     "data": {
      "text/plain": [
       "array([[3999.3215]], dtype=float32)"
      ]
     },
     "execution_count": 77,
     "metadata": {},
     "output_type": "execute_result"
    }
   ],
   "source": [
    "model.predict([2000])"
   ]
  },
  {
   "cell_type": "markdown",
   "id": "b36bb6dd",
   "metadata": {},
   "source": [
    "## Practice"
   ]
  },
  {
   "cell_type": "code",
   "execution_count": 78,
   "id": "d7685e29",
   "metadata": {},
   "outputs": [
    {
     "data": {
      "text/plain": [
       "(2, 2, TensorShape([10, 1]), TensorShape([10, 1]))"
      ]
     },
     "execution_count": 78,
     "metadata": {},
     "output_type": "execute_result"
    }
   ],
   "source": [
    "# Generate Dummy Data\n",
    "tf.random.set_seed(42)\n",
    "X = tf.constant(np.arange(0,10))\n",
    "X = tf.reshape(X, shape=(10, 1))\n",
    "y = tf.constant(np.arange(10,20))\n",
    "y = tf.reshape(y, shape=(10, 1))\n",
    "X.ndim, y.ndim, X.shape, y.shape"
   ]
  },
  {
   "cell_type": "code",
   "execution_count": 79,
   "id": "ed6108a0",
   "metadata": {},
   "outputs": [
    {
     "data": {
      "text/plain": [
       "<matplotlib.collections.PathCollection at 0x7fc2a5173880>"
      ]
     },
     "execution_count": 79,
     "metadata": {},
     "output_type": "execute_result"
    },
    {
     "data": {
      "image/png": "[encoded data removed]",
      "text/plain": [
       "<Figure size 432x288 with 1 Axes>"
      ]
     },
     "metadata": {
      "needs_background": "light"
     },
     "output_type": "display_data"
    }
   ],
   "source": [
    "plt.scatter(X, y)"
   ]
  },
  {
   "cell_type": "code",
   "execution_count": 80,
   "id": "03c9c49a",
   "metadata": {},
   "outputs": [],
   "source": [
    "tf.random.set_seed(42)\n",
    "model = tf.keras.Sequential([\n",
    "    tf.keras.layers.Dense(100),\n",
    "    tf.keras.layers.Dense(10),\n",
    "    tf.keras.layers.Dense(1)\n",
    "])"
   ]
  },
  {
   "cell_type": "code",
   "execution_count": 81,
   "id": "350f5a30",
   "metadata": {},
   "outputs": [],
   "source": [
    "model.compile(optimizer=tf.keras.optimizers.Adam(),\n",
    "             loss=tf.keras.losses.mae,\n",
    "             metrics=[\"mae\"])"
   ]
  },
  {
   "cell_type": "code",
   "execution_count": 82,
   "id": "fa5bef29",
   "metadata": {},
   "outputs": [
    {
     "data": {
      "text/plain": [
       "<keras.callbacks.History at 0x7fc28d858790>"
      ]
     },
     "execution_count": 82,
     "metadata": {},
     "output_type": "execute_result"
    }
   ],
   "source": [
    "model.fit(X, y, epochs=300, verbose=0)"
   ]
  },
  {
   "cell_type": "code",
   "execution_count": 83,
   "id": "fb940172",
   "metadata": {},
   "outputs": [],
   "source": [
    "X_input = [] \n",
    "y_predict = []\n",
    "for i in range(50, 100, 2):\n",
    "    X_input.append(i)\n",
    "    y_predict.append(model.predict([i]))\n",
    "    \n"
   ]
  },
  {
   "cell_type": "code",
   "execution_count": 84,
   "id": "a0478580",
   "metadata": {},
   "outputs": [
    {
     "data": {
      "text/plain": [
       "[50,\n",
       " 52,\n",
       " 54,\n",
       " 56,\n",
       " 58,\n",
       " 60,\n",
       " 62,\n",
       " 64,\n",
       " 66,\n",
       " 68,\n",
       " 70,\n",
       " 72,\n",
       " 74,\n",
       " 76,\n",
       " 78,\n",
       " 80,\n",
       " 82,\n",
       " 84,\n",
       " 86,\n",
       " 88,\n",
       " 90,\n",
       " 92,\n",
       " 94,\n",
       " 96,\n",
       " 98]"
      ]
     },
     "execution_count": 84,
     "metadata": {},
     "output_type": "execute_result"
    }
   ],
   "source": [
    "X_input"
   ]
  },
  {
   "cell_type": "code",
   "execution_count": 85,
   "id": "ba55ec49",
   "metadata": {},
   "outputs": [
    {
     "data": {
      "text/plain": [
       "[array([[61.4574]], dtype=float32),\n",
       " array([[63.51364]], dtype=float32),\n",
       " array([[65.56988]], dtype=float32),\n",
       " array([[67.62611]], dtype=float32),\n",
       " array([[69.682335]], dtype=float32),\n",
       " array([[71.73858]], dtype=float32),\n",
       " array([[73.79481]], dtype=float32),\n",
       " array([[75.85104]], dtype=float32),\n",
       " array([[77.90727]], dtype=float32),\n",
       " array([[79.9635]], dtype=float32),\n",
       " array([[82.01973]], dtype=float32),\n",
       " array([[84.07596]], dtype=float32),\n",
       " array([[86.1322]], dtype=float32),\n",
       " array([[88.18842]], dtype=float32),\n",
       " array([[90.24465]], dtype=float32),\n",
       " array([[92.3009]], dtype=float32),\n",
       " array([[94.357124]], dtype=float32),\n",
       " array([[96.41336]], dtype=float32),\n",
       " array([[98.46959]], dtype=float32),\n",
       " array([[100.52582]], dtype=float32),\n",
       " array([[102.58206]], dtype=float32),\n",
       " array([[104.6383]], dtype=float32),\n",
       " array([[106.69452]], dtype=float32),\n",
       " array([[108.75076]], dtype=float32),\n",
       " array([[110.806984]], dtype=float32)]"
      ]
     },
     "execution_count": 85,
     "metadata": {},
     "output_type": "execute_result"
    }
   ],
   "source": [
    "y_predict"
   ]
  },
  {
   "cell_type": "code",
   "execution_count": 86,
   "id": "874c2c6b",
   "metadata": {},
   "outputs": [
    {
     "data": {
      "text/plain": [
       "(1, 3)"
      ]
     },
     "execution_count": 86,
     "metadata": {},
     "output_type": "execute_result"
    }
   ],
   "source": [
    "X_input = np.array(X_input)\n",
    "y_predict = np.array(y_predict)\n",
    "X_input.ndim, y_predict.ndim"
   ]
  },
  {
   "cell_type": "code",
   "execution_count": 87,
   "id": "92d0802d",
   "metadata": {},
   "outputs": [
    {
     "data": {
      "text/plain": [
       "((25,), (25,))"
      ]
     },
     "execution_count": 87,
     "metadata": {},
     "output_type": "execute_result"
    }
   ],
   "source": [
    "y_predict = y_predict.reshape(25)\n",
    "X_input.shape, y_predict.shape"
   ]
  },
  {
   "cell_type": "code",
   "execution_count": 88,
   "id": "ad277e20",
   "metadata": {},
   "outputs": [
    {
     "data": {
      "text/plain": [
       "<matplotlib.collections.PathCollection at 0x7fc2d91fbac0>"
      ]
     },
     "execution_count": 88,
     "metadata": {},
     "output_type": "execute_result"
    },
    {
     "data": {
      "image/png": "[encoded data removed]",
      "text/plain": [
       "<Figure size 432x288 with 1 Axes>"
      ]
     },
     "metadata": {
      "needs_background": "light"
     },
     "output_type": "display_data"
    }
   ],
   "source": [
    "plt.plot(X_input, y_predict, color='r')\n",
    "plt.scatter(X, y)"
   ]
  },
  {
   "cell_type": "markdown",
   "id": "079d8056",
   "metadata": {},
   "source": [
    "## Common ways to improve a deep model:\n",
    "```\n",
    "-> Adding layers\n",
    "-> Increase the number of hidden units\n",
    "-> Change the activation functions\n",
    "-> Change the optimization function\n",
    "-> Change the learning rate\n",
    "-> Fitting on more data\n",
    "-> Fitting for longer\n",
    "```"
   ]
  },
  {
   "cell_type": "markdown",
   "id": "69dcc5c9",
   "metadata": {},
   "source": [
    "## Exercise"
   ]
  },
  {
   "cell_type": "code",
   "execution_count": 89,
   "id": "f49271f8",
   "metadata": {},
   "outputs": [],
   "source": [
    "df = pd.read_csv('data.csv')"
   ]
  },
  {
   "cell_type": "code",
   "execution_count": 90,
   "id": "64b82981",
   "metadata": {},
   "outputs": [
    {
     "data": {
      "text/plain": [
       "((100,), (100,), 1, 1)"
      ]
     },
     "execution_count": 90,
     "metadata": {},
     "output_type": "execute_result"
    }
   ],
   "source": [
    "X = df['hrs']\n",
    "y = df['Grade']\n",
    "X.shape, y.shape, X.ndim, y.ndim"
   ]
  },
  {
   "cell_type": "code",
   "execution_count": 91,
   "id": "e79432bd",
   "metadata": {},
   "outputs": [
    {
     "data": {
      "text/plain": [
       "(count    100.000000\n",
       " mean      48.958341\n",
       " std        9.746379\n",
       " min       25.128485\n",
       " 25%       41.526164\n",
       " 50%       49.634970\n",
       " 75%       56.762631\n",
       " max       70.346076\n",
       " Name: hrs, dtype: float64,\n",
       " '=======================',\n",
       " count    100.000000\n",
       " mean      72.735051\n",
       " std       16.658187\n",
       " min       31.707006\n",
       " 25%       60.788586\n",
       " 50%       72.179542\n",
       " 75%       83.215080\n",
       " max      118.591217\n",
       " Name: Grade, dtype: float64)"
      ]
     },
     "execution_count": 91,
     "metadata": {},
     "output_type": "execute_result"
    }
   ],
   "source": [
    "X.describe(), '=======================', y.describe()"
   ]
  },
  {
   "cell_type": "code",
   "execution_count": 92,
   "id": "d857b737",
   "metadata": {},
   "outputs": [
    {
     "data": {
      "text/plain": [
       "<matplotlib.collections.PathCollection at 0x7fc28c5ad280>"
      ]
     },
     "execution_count": 92,
     "metadata": {},
     "output_type": "execute_result"
    },
    {
     "data": {
      "image/png": "[encoded data removed]",
      "text/plain": [
       "<Figure size 432x288 with 1 Axes>"
      ]
     },
     "metadata": {
      "needs_background": "light"
     },
     "output_type": "display_data"
    }
   ],
   "source": [
    "# Plotting the points\n",
    "plt.scatter(X, y)"
   ]
  },
  {
   "cell_type": "code",
   "execution_count": 93,
   "id": "82a573a4",
   "metadata": {},
   "outputs": [],
   "source": [
    "# Creating the model\n",
    "model = tf.keras.Sequential([\n",
    "    tf.keras.layers.Dense(1, activation=None)\n",
    "])"
   ]
  },
  {
   "cell_type": "code",
   "execution_count": 94,
   "id": "3f971a5b",
   "metadata": {},
   "outputs": [],
   "source": [
    "# Compiling the model\n",
    "model.compile(optimizer=tf.keras.optimizers.Adam(learning_rate=0.01),\n",
    "             loss=tf.keras.losses.mae,\n",
    "             metrics=['mae'])"
   ]
  },
  {
   "cell_type": "code",
   "execution_count": 95,
   "id": "b6a526df",
   "metadata": {},
   "outputs": [
    {
     "data": {
      "text/plain": [
       "<keras.callbacks.History at 0x7fc2d94107f0>"
      ]
     },
     "execution_count": 95,
     "metadata": {},
     "output_type": "execute_result"
    }
   ],
   "source": [
    "model.fit(X, y, epochs=1000, verbose=0)"
   ]
  },
  {
   "cell_type": "code",
   "execution_count": 96,
   "id": "ea224349",
   "metadata": {},
   "outputs": [
    {
     "data": {
      "text/plain": [
       "(53.42680403327502, 68.77759598163891, array([[77.44582]], dtype=float32))"
      ]
     },
     "execution_count": 96,
     "metadata": {},
     "output_type": "execute_result"
    }
   ],
   "source": [
    "# df['hrs'][1]\n",
    "df['hrs'][1], df['Grade'][1], model.predict([df['hrs'][1]])"
   ]
  },
  {
   "cell_type": "markdown",
   "id": "56b54ef5",
   "metadata": {},
   "source": [
    "## Evaluating a model\n",
    "\n",
    "Workflow when building a NN:\n",
    "    \n",
    "```\n",
    "Build a model -> fit it -> evaluate it -> tweak a model -> fit it -> evaluate it -> tweak a model -> fit it -> evaluate it...```"
   ]
  },
  {
   "cell_type": "markdown",
   "id": "286c79a1",
   "metadata": {},
   "source": [
    "While building a model: ``` > \"Experiment, Experiment, Experiment\"```<br>\n",
    "While evaluating a model: ``` > \"Visualize, Visualize, Visualize\"```\n",
    "\n",
    "It's a good idea to visualize:\n",
    "* **The data** - What data are we working with? What does it look like?\n",
    "* **The model itself** - What does our model look like?\n",
    "* **The training of a model** - how does a model perform while it learns?\n",
    "* **The predictions of the model** - how do the predictions of a model line up against the ground truth (The original labels)?"
   ]
  },
  {
   "cell_type": "markdown",
   "id": "c5db94a5",
   "metadata": {},
   "source": [
    "### Splitting the dataset into 3 sets...\n",
    "\n",
    "* **Training set** - the model learns from this data, which is 70-80% of the total data available.\n",
    "* **Validation set** - the model gets tuned on this data which is 10-15% of the data available.\n",
    "* **Test set** - the model gets evaluated on this data to test what it has learned, it is 10-15% of the data available"
   ]
  },
  {
   "cell_type": "code",
   "execution_count": 97,
   "id": "1ca5cc64",
   "metadata": {},
   "outputs": [],
   "source": [
    "## Generating X and Y\n",
    "X = tf.range(-200, 200, 4)\n",
    "y = X + 5"
   ]
  },
  {
   "cell_type": "code",
   "execution_count": 98,
   "id": "930ff1f9",
   "metadata": {},
   "outputs": [
    {
     "data": {
      "text/plain": [
       "(100, 100)"
      ]
     },
     "execution_count": 98,
     "metadata": {},
     "output_type": "execute_result"
    }
   ],
   "source": [
    "len(X), len(y)"
   ]
  },
  {
   "cell_type": "code",
   "execution_count": 99,
   "id": "6abd5ff0",
   "metadata": {},
   "outputs": [
    {
     "data": {
      "text/plain": [
       "(80, 20, 80, 20, 1, 1)"
      ]
     },
     "execution_count": 99,
     "metadata": {},
     "output_type": "execute_result"
    }
   ],
   "source": [
    "# Splitting the dataset into train and test set\n",
    "X_train = X[:80]\n",
    "X_test = X[80:]\n",
    "\n",
    "y_train = y[:80]\n",
    "y_test = y[80:]\n",
    "\n",
    "len(X_train), len(X_test), len(y_train), len(y_test), X_train.ndim, y_train.ndim"
   ]
  },
  {
   "cell_type": "code",
   "execution_count": 100,
   "id": "2b025884",
   "metadata": {},
   "outputs": [
    {
     "data": {
      "text/plain": [
       "(TensorShape([80]), TensorShape([20]), TensorShape([80]), TensorShape([20]))"
      ]
     },
     "execution_count": 100,
     "metadata": {},
     "output_type": "execute_result"
    }
   ],
   "source": [
    "X_train.shape, X_test.shape, y_train.shape, y_test.shape"
   ]
  },
  {
   "cell_type": "code",
   "execution_count": 101,
   "id": "796514ad",
   "metadata": {},
   "outputs": [
    {
     "data": {
      "text/plain": [
       "<matplotlib.legend.Legend at 0x7fc2a4ff40d0>"
      ]
     },
     "execution_count": 101,
     "metadata": {},
     "output_type": "execute_result"
    },
    {
     "data": {
      "image/png": "[encoded data removed]",
      "text/plain": [
       "<Figure size 1440x720 with 1 Axes>"
      ]
     },
     "metadata": {
      "needs_background": "light"
     },
     "output_type": "display_data"
    }
   ],
   "source": [
    "# Visualizing the Train, Test sets\n",
    "plt.figure(figsize=(20, 10))\n",
    "plt.scatter(X_train, y_train, c='b', label='Training Data')\n",
    "plt.scatter(X_test, y_test, c='r', label='Testing Data')\n",
    "plt.legend()"
   ]
  },
  {
   "cell_type": "code",
   "execution_count": 102,
   "id": "9c31772e",
   "metadata": {},
   "outputs": [],
   "source": [
    "# Building the model\n",
    "model = tf.keras.Sequential([\n",
    "    tf.keras.layers.Dense(100, input_shape=[1]), # Passing input_shape so the model builds automatically and outputs the summary before fitting model.summary()\n",
    "    tf.keras.layers.Dense(10),\n",
    "    tf.keras.layers.Dense(1)\n",
    "])"
   ]
  },
  {
   "cell_type": "code",
   "execution_count": 103,
   "id": "409c413d",
   "metadata": {},
   "outputs": [],
   "source": [
    "model.compile(optimizer=tf.keras.optimizers.Adam(learning_rate=0.01),\n",
    "             loss=tf.keras.losses.mae,\n",
    "             metrics=['mae'])"
   ]
  },
  {
   "cell_type": "markdown",
   "id": "9d20bb0e",
   "metadata": {},
   "source": [
    "## Visualizing the model"
   ]
  },
  {
   "cell_type": "code",
   "execution_count": 104,
   "id": "c32541cd",
   "metadata": {},
   "outputs": [
    {
     "name": "stdout",
     "output_type": "stream",
     "text": [
      "Model: \"sequential_10\"\n",
      "_________________________________________________________________\n",
      " Layer (type)                Output Shape              Param #   \n",
      "=================================================================\n",
      " dense_22 (Dense)            (None, 100)               200       \n",
      "                                                                 \n",
      " dense_23 (Dense)            (None, 10)                1010      \n",
      "                                                                 \n",
      " dense_24 (Dense)            (None, 1)                 11        \n",
      "                                                                 \n",
      "=================================================================\n",
      "Total params: 1,221\n",
      "Trainable params: 1,221\n",
      "Non-trainable params: 0\n",
      "_________________________________________________________________\n"
     ]
    }
   ],
   "source": [
    "model.summary()\n",
    "\n",
    "# Change Dense layer parameters (# of layers, # of hidden units) for different model summary"
   ]
  },
  {
   "cell_type": "markdown",
   "id": "54d36665",
   "metadata": {},
   "source": [
    "* Dense layer = Fully connected Layer\n",
    "* Total params = total # of params in the model\n",
    "* Trainable params = Weights matrix and Biases vector, (Patterns a model can update as it trains)\n",
    "* Non-trainable params = Parameters that are not updated during training (this is typical when we bring already learnt patterns or params from other models during **Transfer Learning**)"
   ]
  },
  {
   "cell_type": "code",
   "execution_count": 105,
   "id": "9fa1fc3f",
   "metadata": {},
   "outputs": [
    {
     "name": "stdout",
     "output_type": "stream",
     "text": [
      "You must install pydot (`pip install pydot`) and install graphviz (see instructions at https://graphviz.gitlab.io/download/) for plot_model/model_to_dot to work.\n"
     ]
    }
   ],
   "source": [
    "from tensorflow.keras.utils import plot_model\n",
    "plot_model(model, show_shapes=True, show_layer_activations=True, show_layer_names=True)"
   ]
  },
  {
   "cell_type": "code",
   "execution_count": 106,
   "id": "859c8ce6",
   "metadata": {},
   "outputs": [
    {
     "data": {
      "text/plain": [
       "<keras.callbacks.History at 0x7fc2a4f65cd0>"
      ]
     },
     "execution_count": 106,
     "metadata": {},
     "output_type": "execute_result"
    }
   ],
   "source": [
    "model.fit(X_train, y_train, epochs=100, verbose=0)"
   ]
  },
  {
   "cell_type": "code",
   "execution_count": 107,
   "id": "0455fe70",
   "metadata": {},
   "outputs": [
    {
     "data": {
      "text/plain": [
       "array([[4.9949756]], dtype=float32)"
      ]
     },
     "execution_count": 107,
     "metadata": {},
     "output_type": "execute_result"
    }
   ],
   "source": [
    "model.predict([0])"
   ]
  },
  {
   "cell_type": "markdown",
   "id": "0599d74c",
   "metadata": {},
   "source": [
    "## Visualizing our model's predictions\n",
    "\n",
    "Plotting ground truth ```y_true/y_test``` versus model's prediction ```y_pred```"
   ]
  },
  {
   "cell_type": "code",
   "execution_count": 108,
   "id": "b68a99fd",
   "metadata": {},
   "outputs": [
    {
     "data": {
      "text/plain": [
       "array([[125.54638],\n",
       "       [129.56479],\n",
       "       [133.58316],\n",
       "       [137.60155],\n",
       "       [141.61992],\n",
       "       [145.63829],\n",
       "       [149.6567 ],\n",
       "       [153.67503],\n",
       "       [157.69344],\n",
       "       [161.71184],\n",
       "       [165.73022],\n",
       "       [169.74858],\n",
       "       [173.76695],\n",
       "       [177.78534],\n",
       "       [181.80371],\n",
       "       [185.8221 ],\n",
       "       [189.8405 ],\n",
       "       [193.85886],\n",
       "       [197.87726],\n",
       "       [201.8956 ]], dtype=float32)"
      ]
     },
     "execution_count": 108,
     "metadata": {},
     "output_type": "execute_result"
    }
   ],
   "source": [
    "# Making some predictions\n",
    "y_pred = model.predict(X_test)\n",
    "y_pred"
   ]
  },
  {
   "cell_type": "code",
   "execution_count": 109,
   "id": "d89581af",
   "metadata": {},
   "outputs": [
    {
     "data": {
      "text/plain": [
       "<tf.Tensor: shape=(20,), dtype=int32, numpy=\n",
       "array([125, 129, 133, 137, 141, 145, 149, 153, 157, 161, 165, 169, 173,\n",
       "       177, 181, 185, 189, 193, 197, 201], dtype=int32)>"
      ]
     },
     "execution_count": 109,
     "metadata": {},
     "output_type": "execute_result"
    }
   ],
   "source": [
    "y_test"
   ]
  },
  {
   "cell_type": "code",
   "execution_count": 110,
   "id": "e54d256e",
   "metadata": {},
   "outputs": [
    {
     "data": {
      "text/plain": [
       "<tf.Tensor: shape=(20,), dtype=float32, numpy=\n",
       "array([125.54638, 129.56479, 133.58316, 137.60155, 141.61992, 145.63829,\n",
       "       149.6567 , 153.67503, 157.69344, 161.71184, 165.73022, 169.74858,\n",
       "       173.76695, 177.78534, 181.80371, 185.8221 , 189.8405 , 193.85886,\n",
       "       197.87726, 201.8956 ], dtype=float32)>"
      ]
     },
     "execution_count": 110,
     "metadata": {},
     "output_type": "execute_result"
    }
   ],
   "source": [
    "y_pred = tf.squeeze(y_pred)\n",
    "y_pred"
   ]
  },
  {
   "cell_type": "code",
   "execution_count": 111,
   "id": "3b205f10",
   "metadata": {},
   "outputs": [
    {
     "data": {
      "text/plain": [
       "<matplotlib.legend.Legend at 0x7fc2a4e53880>"
      ]
     },
     "execution_count": 111,
     "metadata": {},
     "output_type": "execute_result"
    },
    {
     "data": {
      "image/png": "[encoded data removed]",
      "text/plain": [
       "<Figure size 1440x720 with 1 Axes>"
      ]
     },
     "metadata": {
      "needs_background": "light"
     },
     "output_type": "display_data"
    }
   ],
   "source": [
    "plt.figure(figsize=(20, 10))\n",
    "plt.scatter(X_train, y_train, c='b', label='Training data')\n",
    "plt.scatter(X_test, y_test, c='g', label='Testing data')\n",
    "plt.scatter(X_test, y_pred, c='r', label='Predictions', alpha=0.2, s=200)\n",
    "plt.legend()"
   ]
  },
  {
   "cell_type": "markdown",
   "id": "4dfd42e5",
   "metadata": {},
   "source": [
    "## Evaluating our model's predictions with regression evaluation metrics\n",
    "\n",
    "* MAE - Mean Absolute Error, \"On average, how wrong is each of our model's predictions\"\n",
    "* MSE - Mean Square Error, \"Square the average error\""
   ]
  },
  {
   "cell_type": "code",
   "execution_count": 112,
   "id": "f973743f",
   "metadata": {},
   "outputs": [
    {
     "name": "stdout",
     "output_type": "stream",
     "text": [
      "1/1 [==============================] - 0s 105ms/step - loss: 0.7210 - mae: 0.7210\n"
     ]
    },
    {
     "data": {
      "text/plain": [
       "[0.7210105657577515, 0.7210105657577515]"
      ]
     },
     "execution_count": 112,
     "metadata": {},
     "output_type": "execute_result"
    }
   ],
   "source": [
    "model.evaluate(X_test, y_test)"
   ]
  },
  {
   "cell_type": "code",
   "execution_count": 113,
   "id": "45be6880",
   "metadata": {},
   "outputs": [
    {
     "data": {
      "text/plain": [
       "(<tf.Tensor: shape=(), dtype=float32, numpy=0.7210102>,\n",
       " <tf.Tensor: shape=(), dtype=float32, numpy=0.5310887>)"
      ]
     },
     "execution_count": 113,
     "metadata": {},
     "output_type": "execute_result"
    }
   ],
   "source": [
    "# Calculate the mean absolute error\n",
    "mae = tf.metrics.mean_absolute_error(y_true=y_test, y_pred=y_pred)\n",
    "mse = tf.metrics.mean_squared_error(y_true=y_test, y_pred=y_pred)\n",
    "mae, mse"
   ]
  },
  {
   "cell_type": "markdown",
   "id": "f7f8cb48",
   "metadata": {},
   "source": [
    "* **Machine Learning Explorer's motto** = \"Visualize, Visualize, Visualize\"<br>\n",
    "* **Machine Learning Practitioner's motto** = \"Experiment, Experiment, Experiment\""
   ]
  },
  {
   "cell_type": "markdown",
   "id": "872e2d85",
   "metadata": {},
   "source": [
    "## Running experiments to improve our model\n",
    "\n",
    "1. Get more data - get more examples for out model to train on\n",
    "2. Make model larger - Use more complex model, more layers or mor hidden units in each layer\n",
    "3. Train for longer - Give our model more of a chance to find patterns in data, more # of epochs"
   ]
  },
  {
   "cell_type": "markdown",
   "id": "941378c7",
   "metadata": {},
   "source": [
    "Doing 3 more modelling experiments:\n",
    "\n",
    "1. `model_1` - same as original model, 1 layer, trained for 100 epochs.\n",
    "2. `model_2` - 2 layers, trained for 100 epochs\n",
    "3. `model_3` - 2 layers, trained for 500 epochs\n",
    "\n",
    "**Build `model_1`**"
   ]
  },
  {
   "cell_type": "code",
   "execution_count": 114,
   "id": "0ec2070c",
   "metadata": {},
   "outputs": [
    {
     "data": {
      "text/plain": [
       "(TensorShape([40]),\n",
       " TensorShape([40]),\n",
       " TensorShape([10]),\n",
       " TensorShape([10]),\n",
       " 1,\n",
       " 1,\n",
       " 1,\n",
       " 1)"
      ]
     },
     "execution_count": 114,
     "metadata": {},
     "output_type": "execute_result"
    }
   ],
   "source": [
    "X = tf.range(-100, 100, 4)\n",
    "y = X + 10\n",
    "\n",
    "X_train = X[:40]\n",
    "X_test = X[40:]\n",
    "y_train = y[:40]\n",
    "y_test = y[40:]\n",
    "\n",
    "X_train.shape, y_train.shape, X_test.shape, y_test.shape, X_train.ndim, y_train.ndim, X_test.ndim, y_test.ndim"
   ]
  },
  {
   "cell_type": "code",
   "execution_count": 115,
   "id": "7c6c147a",
   "metadata": {},
   "outputs": [
    {
     "data": {
      "text/plain": [
       "<keras.callbacks.History at 0x7fc2a4d40e20>"
      ]
     },
     "execution_count": 115,
     "metadata": {},
     "output_type": "execute_result"
    }
   ],
   "source": [
    "tf.random.set_seed(42)\n",
    "model_1 = tf.keras.Sequential([\n",
    "    tf.keras.layers.Dense(1, input_shape=[1])\n",
    "])\n",
    "\n",
    "model_1.compile(loss=tf.keras.losses.mae,\n",
    "               optimizer=tf.keras.optimizers.SGD(),\n",
    "               metrics=['mae'])\n",
    "\n",
    "model_1.fit(X_train, y_train, epochs=100, verbose=0)"
   ]
  },
  {
   "cell_type": "code",
   "execution_count": 116,
   "id": "869a2cb2",
   "metadata": {},
   "outputs": [],
   "source": [
    "y_pred_1 = model_1.predict(X_test)"
   ]
  },
  {
   "cell_type": "markdown",
   "id": "e962f943",
   "metadata": {},
   "source": [
    "**Build `model_2`**"
   ]
  },
  {
   "cell_type": "code",
   "execution_count": 117,
   "id": "9a266ead",
   "metadata": {},
   "outputs": [],
   "source": [
    "import os\n",
    "checkpoint_path = \"training_3/cp.ckpt\"\n",
    "checkpoint_dir = os.path.dirname(checkpoint_path)\n",
    "\n",
    "# Create a callback that saves the model's weights\n",
    "cp_callback = tf.keras.callbacks.ModelCheckpoint(filepath=checkpoint_dir,\n",
    "                                                 save_weights_only=True,\n",
    "                                                 verbose=1)"
   ]
  },
  {
   "cell_type": "code",
   "execution_count": 118,
   "id": "6ded5df7",
   "metadata": {},
   "outputs": [
    {
     "name": "stdout",
     "output_type": "stream",
     "text": [
      "\n",
      "Epoch 1: saving model to training_3\n",
      "\n",
      "Epoch 2: saving model to training_3\n",
      "\n",
      "Epoch 3: saving model to training_3\n",
      "\n",
      "Epoch 4: saving model to training_3\n",
      "\n",
      "Epoch 5: saving model to training_3\n",
      "\n",
      "Epoch 6: saving model to training_3\n",
      "\n",
      "Epoch 7: saving model to training_3\n",
      "\n",
      "Epoch 8: saving model to training_3\n",
      "\n",
      "Epoch 9: saving model to training_3\n",
      "\n",
      "Epoch 10: saving model to training_3\n",
      "\n",
      "Epoch 11: saving model to training_3\n",
      "\n",
      "Epoch 12: saving model to training_3\n",
      "\n",
      "Epoch 13: saving model to training_3\n",
      "\n",
      "Epoch 14: saving model to training_3\n",
      "\n",
      "Epoch 15: saving model to training_3\n",
      "\n",
      "Epoch 16: saving model to training_3\n",
      "\n",
      "Epoch 17: saving model to training_3\n",
      "\n",
      "Epoch 18: saving model to training_3\n",
      "\n",
      "Epoch 19: saving model to training_3\n",
      "\n",
      "Epoch 20: saving model to training_3\n",
      "\n",
      "Epoch 21: saving model to training_3\n",
      "\n",
      "Epoch 22: saving model to training_3\n",
      "\n",
      "Epoch 23: saving model to training_3\n",
      "\n",
      "Epoch 24: saving model to training_3\n",
      "\n",
      "Epoch 25: saving model to training_3\n",
      "\n",
      "Epoch 26: saving model to training_3\n",
      "\n",
      "Epoch 27: saving model to training_3\n",
      "\n",
      "Epoch 28: saving model to training_3\n",
      "\n",
      "Epoch 29: saving model to training_3\n",
      "\n",
      "Epoch 30: saving model to training_3\n",
      "\n",
      "Epoch 31: saving model to training_3\n",
      "\n",
      "Epoch 32: saving model to training_3\n",
      "\n",
      "Epoch 33: saving model to training_3\n",
      "\n",
      "Epoch 34: saving model to training_3\n",
      "\n",
      "Epoch 35: saving model to training_3\n",
      "\n",
      "Epoch 36: saving model to training_3\n",
      "\n",
      "Epoch 37: saving model to training_3\n",
      "\n",
      "Epoch 38: saving model to training_3\n",
      "\n",
      "Epoch 39: saving model to training_3\n",
      "\n",
      "Epoch 40: saving model to training_3\n",
      "\n",
      "Epoch 41: saving model to training_3\n",
      "\n",
      "Epoch 42: saving model to training_3\n",
      "\n",
      "Epoch 43: saving model to training_3\n",
      "\n",
      "Epoch 44: saving model to training_3\n",
      "\n",
      "Epoch 45: saving model to training_3\n",
      "\n",
      "Epoch 46: saving model to training_3\n",
      "\n",
      "Epoch 47: saving model to training_3\n",
      "\n",
      "Epoch 48: saving model to training_3\n",
      "\n",
      "Epoch 49: saving model to training_3\n",
      "\n",
      "Epoch 50: saving model to training_3\n"
     ]
    },
    {
     "data": {
      "text/plain": [
       "<keras.callbacks.History at 0x7fc2a4ce9bb0>"
      ]
     },
     "execution_count": 118,
     "metadata": {},
     "output_type": "execute_result"
    }
   ],
   "source": [
    "tf.random.set_seed(42)\n",
    "model_2 = tf.keras.Sequential([\n",
    "    tf.keras.layers.Dense(100, input_shape=[1]),\n",
    "    tf.keras.layers.Dense(1)\n",
    "])\n",
    "\n",
    "model_2.compile(loss=tf.keras.losses.mae,\n",
    "               optimizer=tf.keras.optimizers.SGD(learning_rate=0.01),\n",
    "               metrics=['mae'])\n",
    "\n",
    "model_2.fit(X_train, y_train, epochs=50, verbose=0, callbacks=[cp_callback])"
   ]
  },
  {
   "cell_type": "code",
   "execution_count": 119,
   "id": "4aaa1167",
   "metadata": {},
   "outputs": [
    {
     "data": {
      "text/plain": [
       "array([[-53.040417]], dtype=float32)"
      ]
     },
     "execution_count": 119,
     "metadata": {},
     "output_type": "execute_result"
    }
   ],
   "source": [
    "y_pred_2 = model_2.predict(X_test)\n",
    "model_2.predict([-50])"
   ]
  },
  {
   "cell_type": "markdown",
   "id": "f61e66f9",
   "metadata": {},
   "source": [
    "**Build `model_3`**"
   ]
  },
  {
   "cell_type": "code",
   "execution_count": 120,
   "id": "17ca3de3",
   "metadata": {},
   "outputs": [
    {
     "data": {
      "text/plain": [
       "<keras.callbacks.History at 0x7fc2a4bd5fd0>"
      ]
     },
     "execution_count": 120,
     "metadata": {},
     "output_type": "execute_result"
    }
   ],
   "source": [
    "tf.random.set_seed(42)\n",
    "model_3 = tf.keras.Sequential([\n",
    "    tf.keras.layers.Dense(100, input_shape=[1]),\n",
    "    tf.keras.layers.Dense(1)\n",
    "])\n",
    "\n",
    "model_3.compile(loss=tf.keras.losses.mae,\n",
    "               optimizer=tf.keras.optimizers.SGD(),\n",
    "               metrics=['mae'])\n",
    "\n",
    "model_3.fit(X_train, y_train, epochs=500, verbose=0)"
   ]
  },
  {
   "cell_type": "code",
   "execution_count": 121,
   "id": "59212097",
   "metadata": {},
   "outputs": [],
   "source": [
    "y_pred_3 = model_3.predict(X_test)"
   ]
  },
  {
   "cell_type": "code",
   "execution_count": 122,
   "id": "a8d4af33",
   "metadata": {},
   "outputs": [],
   "source": [
    "# Plot Function\n",
    "\n",
    "def show(X_train, X_test, y_train, y_test, y_pred, name):\n",
    "    plt.figure(figsize=(20, 10))\n",
    "    plt.scatter(X_train, y_train, c='b', label='Training data')\n",
    "    plt.scatter(X_test, y_test, c='g', label='Testing data')\n",
    "    plt.scatter(y_test, y_pred, c='r', label='Predictions')\n",
    "    plt.title(name)\n",
    "    plt.legend()\n",
    "    \n",
    "def mae(y_test, y_pred):\n",
    "    return tf.losses.mean_absolute_error(y_test, y_pred)\n",
    "\n",
    "def mse(y_test, y_pred):\n",
    "    return tf.losses.mean_squared_error(y_test, y_pred)"
   ]
  },
  {
   "cell_type": "code",
   "execution_count": 123,
   "id": "442a89fe",
   "metadata": {},
   "outputs": [
    {
     "data": {
      "image/png": "[encoded data removed]",
      "text/plain": [
       "<Figure size 1440x720 with 1 Axes>"
      ]
     },
     "metadata": {
      "needs_background": "light"
     },
     "output_type": "display_data"
    },
    {
     "data": {
      "image/png": "[encoded data removed]",
      "text/plain": [
       "<Figure size 1440x720 with 1 Axes>"
      ]
     },
     "metadata": {
      "needs_background": "light"
     },
     "output_type": "display_data"
    },
    {
     "data": {
      "image/png": "[encoded data removed]",
      "text/plain": [
       "<Figure size 1440x720 with 1 Axes>"
      ]
     },
     "metadata": {
      "needs_background": "light"
     },
     "output_type": "display_data"
    }
   ],
   "source": [
    "show(X_train, X_test, y_train, y_test, y_pred_1, 'model_1')\n",
    "show(X_train, X_test, y_train, y_test, y_pred_2, 'model_2')\n",
    "show(X_train, X_test, y_train, y_test, y_pred_3, 'model_3')"
   ]
  },
  {
   "cell_type": "code",
   "execution_count": 124,
   "id": "b4170777",
   "metadata": {},
   "outputs": [],
   "source": [
    "mae(y_test, tf.squeeze(y_pred_1)), mae(y_test, tf.squeeze(y_pred_2)), mae(y_test, tf.squeeze(y_pred_3))\n",
    "mae_1 = mae(y_test, tf.squeeze(y_pred_1))\n",
    "mae_2 = mae(y_test, tf.squeeze(y_pred_2))\n",
    "mae_3 = mae(y_test, tf.squeeze(y_pred_3))"
   ]
  },
  {
   "cell_type": "code",
   "execution_count": 125,
   "id": "ac9a92e4",
   "metadata": {},
   "outputs": [],
   "source": [
    "mse(y_test, tf.squeeze(y_pred_1)), mse(y_test, tf.squeeze(y_pred_2)), mse(y_test, tf.squeeze(y_pred_3))\n",
    "mse_1 = mse(y_test, tf.squeeze(y_pred_1))\n",
    "mse_2 = mse(y_test, tf.squeeze(y_pred_2))\n",
    "mse_3 = mse(y_test, tf.squeeze(y_pred_3))"
   ]
  },
  {
   "cell_type": "markdown",
   "id": "713cfd76",
   "metadata": {},
   "source": [
    "## Comparing the results of our experiments"
   ]
  },
  {
   "cell_type": "code",
   "execution_count": 126,
   "id": "431f3f20",
   "metadata": {},
   "outputs": [
    {
     "data": {
      "text/html": [
       "<div>\n",
       "<style scoped>\n",
       "    .dataframe tbody tr th:only-of-type {\n",
       "        vertical-align: middle;\n",
       "    }\n",
       "\n",
       "    .dataframe tbody tr th {\n",
       "        vertical-align: top;\n",
       "    }\n",
       "\n",
       "    .dataframe thead th {\n",
       "        text-align: right;\n",
       "    }\n",
       "</style>\n",
       "<table border=\"1\" class=\"dataframe\">\n",
       "  <thead>\n",
       "    <tr style=\"text-align: right;\">\n",
       "      <th></th>\n",
       "      <th>model</th>\n",
       "      <th>mae</th>\n",
       "      <th>mse</th>\n",
       "    </tr>\n",
       "  </thead>\n",
       "  <tbody>\n",
       "    <tr>\n",
       "      <th>0</th>\n",
       "      <td>model_1</td>\n",
       "      <td>18.745327</td>\n",
       "      <td>353.573364</td>\n",
       "    </tr>\n",
       "    <tr>\n",
       "      <th>1</th>\n",
       "      <td>model_2</td>\n",
       "      <td>3.049957</td>\n",
       "      <td>10.106365</td>\n",
       "    </tr>\n",
       "    <tr>\n",
       "      <th>2</th>\n",
       "      <td>model_3</td>\n",
       "      <td>67.219154</td>\n",
       "      <td>4601.054199</td>\n",
       "    </tr>\n",
       "  </tbody>\n",
       "</table>\n",
       "</div>"
      ],
      "text/plain": [
       "     model        mae          mse\n",
       "0  model_1  18.745327   353.573364\n",
       "1  model_2   3.049957    10.106365\n",
       "2  model_3  67.219154  4601.054199"
      ]
     },
     "execution_count": 126,
     "metadata": {},
     "output_type": "execute_result"
    }
   ],
   "source": [
    "results = [['model_1', mae_1.numpy(), mse_1.numpy()],\n",
    "          ['model_2', mae_2.numpy(), mse_2.numpy()],\n",
    "          ['model_3', mae_3.numpy(), mse_3.numpy()]]\n",
    "\n",
    "pd_results = pd.DataFrame(results, columns=['model', 'mae', 'mse'])\n",
    "pd_results"
   ]
  },
  {
   "cell_type": "code",
   "execution_count": 127,
   "id": "bb4aa46d",
   "metadata": {},
   "outputs": [
    {
     "name": "stdout",
     "output_type": "stream",
     "text": [
      "Model: \"sequential_12\"\n",
      "_________________________________________________________________\n",
      " Layer (type)                Output Shape              Param #   \n",
      "=================================================================\n",
      " dense_26 (Dense)            (None, 100)               200       \n",
      "                                                                 \n",
      " dense_27 (Dense)            (None, 1)                 101       \n",
      "                                                                 \n",
      "=================================================================\n",
      "Total params: 301\n",
      "Trainable params: 301\n",
      "Non-trainable params: 0\n",
      "_________________________________________________________________\n"
     ]
    }
   ],
   "source": [
    "model_2.summary()"
   ]
  },
  {
   "cell_type": "markdown",
   "id": "8b05d69b",
   "metadata": {},
   "source": [
    "## Tracking our Experiments\n",
    "\n",
    "As machine learning practitioners' job is to 'Experiment, Experiment, Experiment' therefore it is a good practice to keep track of results.\n",
    "\n",
    "There are tools that help us do that exactly.\n",
    "\n",
    "**Resources**\n",
    "\n",
    "* TensorBoard - A component of the TensorFlow library to help track modelling experiments.\n",
    "* Weights & Biases - A tool for tracking all kinds of learning ML experiments."
   ]
  },
  {
   "cell_type": "markdown",
   "id": "d27e44dc",
   "metadata": {},
   "source": [
    "## Saving our Models\n",
    "\n",
    "Saving our models allows us to use them outside the Google Colab\n",
    "\n",
    "There are two main formats we can save our model's to:\n",
    "\n",
    "1. The SavedModel format\n",
    "2. The HDF5 format"
   ]
  },
  {
   "cell_type": "code",
   "execution_count": 128,
   "id": "00e9e920",
   "metadata": {},
   "outputs": [
    {
     "name": "stdout",
     "output_type": "stream",
     "text": [
      "INFO:tensorflow:Assets written to: model_1_SavedModel/assets\n"
     ]
    }
   ],
   "source": [
    "model_2.save('model_1_SavedModel')"
   ]
  },
  {
   "cell_type": "code",
   "execution_count": 129,
   "id": "42d1ca16",
   "metadata": {},
   "outputs": [
    {
     "name": "stdout",
     "output_type": "stream",
     "text": [
      "INFO:tensorflow:Assets written to: model_1_tf/assets\n"
     ]
    }
   ],
   "source": [
    "model_2.save('model_1_tf', save_format='tf')"
   ]
  },
  {
   "cell_type": "markdown",
   "id": "3bbae922",
   "metadata": {},
   "source": [
    "## Loading out Models"
   ]
  },
  {
   "cell_type": "code",
   "execution_count": 130,
   "id": "14da7130",
   "metadata": {},
   "outputs": [],
   "source": [
    "new_model_2_loaded = tf.keras.models.load_model('model_1_SavedModel')"
   ]
  },
  {
   "cell_type": "code",
   "execution_count": 131,
   "id": "142974c0",
   "metadata": {},
   "outputs": [
    {
     "data": {
      "text/plain": [
       "array([[-53.040417]], dtype=float32)"
      ]
     },
     "execution_count": 131,
     "metadata": {},
     "output_type": "execute_result"
    }
   ],
   "source": [
    "new_model_2_loaded.predict([-50])"
   ]
  },
  {
   "cell_type": "code",
   "execution_count": 132,
   "id": "f7fce128",
   "metadata": {},
   "outputs": [
    {
     "data": {
      "text/plain": [
       "array([[-53.040417]], dtype=float32)"
      ]
     },
     "execution_count": 132,
     "metadata": {},
     "output_type": "execute_result"
    }
   ],
   "source": [
    "model_2.predict([-50])"
   ]
  },
  {
   "cell_type": "code",
   "execution_count": 133,
   "id": "4a35db44",
   "metadata": {},
   "outputs": [
    {
     "data": {
      "text/plain": [
       "array([[ True],\n",
       "       [ True],\n",
       "       [ True],\n",
       "       [ True],\n",
       "       [ True],\n",
       "       [ True],\n",
       "       [ True],\n",
       "       [ True],\n",
       "       [ True],\n",
       "       [ True]])"
      ]
     },
     "execution_count": 133,
     "metadata": {},
     "output_type": "execute_result"
    }
   ],
   "source": [
    "model_2.predict(X_test) == new_model_2_loaded.predict(X_test)"
   ]
  },
  {
   "cell_type": "code",
   "execution_count": 134,
   "id": "e06cfe3d",
   "metadata": {},
   "outputs": [],
   "source": [
    "# Loading HDF5 format\n",
    "new_model_2_hdf5 = tf.keras.models.load_model('model_1_tf')"
   ]
  },
  {
   "cell_type": "code",
   "execution_count": 135,
   "id": "6ca517ac",
   "metadata": {},
   "outputs": [
    {
     "data": {
      "text/plain": [
       "array([[ True],\n",
       "       [ True],\n",
       "       [ True],\n",
       "       [ True],\n",
       "       [ True],\n",
       "       [ True],\n",
       "       [ True],\n",
       "       [ True],\n",
       "       [ True],\n",
       "       [ True]])"
      ]
     },
     "execution_count": 135,
     "metadata": {},
     "output_type": "execute_result"
    }
   ],
   "source": [
    "model_2.predict(X_test) == new_model_2_hdf5.predict(X_test)"
   ]
  },
  {
   "cell_type": "code",
   "execution_count": 136,
   "id": "f68934c5",
   "metadata": {},
   "outputs": [
    {
     "name": "stdout",
     "output_type": "stream",
     "text": [
      "Epoch 1/95\n",
      "2/2 [==============================] - 0s 3ms/step - loss: 11.3251 - mae: 11.3251\n",
      "Epoch 2/95\n",
      "2/2 [==============================] - 0s 3ms/step - loss: 10.7382 - mae: 10.7382\n",
      "Epoch 3/95\n",
      "2/2 [==============================] - 0s 8ms/step - loss: 17.0955 - mae: 17.0955\n",
      "Epoch 4/95\n",
      "2/2 [==============================] - 0s 8ms/step - loss: 12.1950 - mae: 12.1950\n",
      "Epoch 5/95\n",
      "2/2 [==============================] - 0s 4ms/step - loss: 13.4525 - mae: 13.4525\n",
      "Epoch 6/95\n",
      "2/2 [==============================] - 0s 9ms/step - loss: 10.6942 - mae: 10.6942\n",
      "Epoch 7/95\n",
      "2/2 [==============================] - 0s 9ms/step - loss: 11.7288 - mae: 11.7288\n",
      "Epoch 8/95\n",
      "2/2 [==============================] - 0s 8ms/step - loss: 10.2274 - mae: 10.2274\n",
      "Epoch 9/95\n",
      "2/2 [==============================] - 0s 5ms/step - loss: 38.8711 - mae: 38.8711\n",
      "Epoch 10/95\n",
      "2/2 [==============================] - 0s 4ms/step - loss: 26.6099 - mae: 26.6099\n",
      "Epoch 11/95\n",
      "2/2 [==============================] - 0s 6ms/step - loss: 11.2163 - mae: 11.2163\n",
      "Epoch 12/95\n",
      "2/2 [==============================] - 0s 7ms/step - loss: 23.1295 - mae: 23.1295\n",
      "Epoch 13/95\n",
      "2/2 [==============================] - 0s 5ms/step - loss: 21.9604 - mae: 21.9604\n",
      "Epoch 14/95\n",
      "2/2 [==============================] - 0s 10ms/step - loss: 22.7623 - mae: 22.7623\n",
      "Epoch 15/95\n",
      "2/2 [==============================] - 0s 7ms/step - loss: 14.8342 - mae: 14.8342\n",
      "Epoch 16/95\n",
      "2/2 [==============================] - 0s 5ms/step - loss: 9.7050 - mae: 9.7050\n",
      "Epoch 17/95\n",
      "2/2 [==============================] - 0s 5ms/step - loss: 19.3662 - mae: 19.3662\n",
      "Epoch 18/95\n",
      "2/2 [==============================] - 0s 6ms/step - loss: 10.4349 - mae: 10.4349\n",
      "Epoch 19/95\n",
      "2/2 [==============================] - 0s 5ms/step - loss: 13.3519 - mae: 13.3519\n",
      "Epoch 20/95\n",
      "2/2 [==============================] - 0s 7ms/step - loss: 9.5774 - mae: 9.5774\n",
      "Epoch 21/95\n",
      "2/2 [==============================] - 0s 7ms/step - loss: 14.3742 - mae: 14.3742\n",
      "Epoch 22/95\n",
      "2/2 [==============================] - 0s 6ms/step - loss: 15.0614 - mae: 15.0614\n",
      "Epoch 23/95\n",
      "2/2 [==============================] - 0s 5ms/step - loss: 9.8667 - mae: 9.8667\n",
      "Epoch 24/95\n",
      "2/2 [==============================] - 0s 5ms/step - loss: 15.3720 - mae: 15.3720\n",
      "Epoch 25/95\n",
      "2/2 [==============================] - 0s 4ms/step - loss: 14.3896 - mae: 14.3896\n",
      "Epoch 26/95\n",
      "2/2 [==============================] - 0s 5ms/step - loss: 18.9317 - mae: 18.9317\n",
      "Epoch 27/95\n",
      "2/2 [==============================] - 0s 9ms/step - loss: 11.7416 - mae: 11.7416\n",
      "Epoch 28/95\n",
      "2/2 [==============================] - 0s 5ms/step - loss: 26.3044 - mae: 26.3044\n",
      "Epoch 29/95\n",
      "2/2 [==============================] - 0s 9ms/step - loss: 8.6383 - mae: 8.6383\n",
      "Epoch 30/95\n",
      "2/2 [==============================] - 0s 9ms/step - loss: 30.9710 - mae: 30.9710\n",
      "Epoch 31/95\n",
      "2/2 [==============================] - 0s 9ms/step - loss: 56.2533 - mae: 56.2533\n",
      "Epoch 32/95\n",
      "2/2 [==============================] - 0s 11ms/step - loss: 9.1878 - mae: 9.1878\n",
      "Epoch 33/95\n",
      "2/2 [==============================] - 0s 8ms/step - loss: 13.0240 - mae: 13.0240\n",
      "Epoch 34/95\n",
      "2/2 [==============================] - 0s 10ms/step - loss: 17.2768 - mae: 17.2768\n",
      "Epoch 35/95\n",
      "2/2 [==============================] - 0s 7ms/step - loss: 13.4665 - mae: 13.4665\n",
      "Epoch 36/95\n",
      "2/2 [==============================] - 0s 7ms/step - loss: 20.4879 - mae: 20.4879\n",
      "Epoch 37/95\n",
      "2/2 [==============================] - 0s 7ms/step - loss: 11.8032 - mae: 11.8032\n",
      "Epoch 38/95\n",
      "2/2 [==============================] - 0s 7ms/step - loss: 17.4719 - mae: 17.4719\n",
      "Epoch 39/95\n",
      "2/2 [==============================] - 0s 9ms/step - loss: 18.4088 - mae: 18.4088\n",
      "Epoch 40/95\n",
      "2/2 [==============================] - 0s 6ms/step - loss: 19.2849 - mae: 19.2849\n",
      "Epoch 41/95\n",
      "2/2 [==============================] - 0s 5ms/step - loss: 6.8405 - mae: 6.8405\n",
      "Epoch 42/95\n",
      "2/2 [==============================] - 0s 5ms/step - loss: 9.0795 - mae: 9.0795\n",
      "Epoch 43/95\n",
      "2/2 [==============================] - 0s 7ms/step - loss: 9.1337 - mae: 9.1337\n",
      "Epoch 44/95\n",
      "2/2 [==============================] - 0s 5ms/step - loss: 30.4336 - mae: 30.4336\n",
      "Epoch 45/95\n",
      "2/2 [==============================] - 0s 7ms/step - loss: 11.2966 - mae: 11.2966\n",
      "Epoch 46/95\n",
      "2/2 [==============================] - 0s 8ms/step - loss: 16.1629 - mae: 16.1629\n",
      "Epoch 47/95\n",
      "2/2 [==============================] - 0s 9ms/step - loss: 15.0136 - mae: 15.0136\n",
      "Epoch 48/95\n",
      "2/2 [==============================] - 0s 9ms/step - loss: 18.0571 - mae: 18.0571\n",
      "Epoch 49/95\n",
      "2/2 [==============================] - 0s 8ms/step - loss: 8.3047 - mae: 8.3047\n",
      "Epoch 50/95\n",
      "2/2 [==============================] - 0s 9ms/step - loss: 12.0746 - mae: 12.0746\n",
      "Epoch 51/95\n",
      "2/2 [==============================] - 0s 7ms/step - loss: 10.5760 - mae: 10.5760\n",
      "Epoch 52/95\n",
      "2/2 [==============================] - 0s 8ms/step - loss: 28.5565 - mae: 28.5565\n",
      "Epoch 53/95\n",
      "2/2 [==============================] - 0s 8ms/step - loss: 16.0334 - mae: 16.0334\n",
      "Epoch 54/95\n",
      "2/2 [==============================] - 0s 6ms/step - loss: 20.9061 - mae: 20.9061\n",
      "Epoch 55/95\n",
      "2/2 [==============================] - 0s 5ms/step - loss: 21.3377 - mae: 21.3377\n",
      "Epoch 56/95\n",
      "2/2 [==============================] - 0s 5ms/step - loss: 9.7248 - mae: 9.7248\n",
      "Epoch 57/95\n",
      "2/2 [==============================] - 0s 4ms/step - loss: 11.5124 - mae: 11.5124\n",
      "Epoch 58/95\n",
      "2/2 [==============================] - 0s 4ms/step - loss: 8.7338 - mae: 8.7338\n",
      "Epoch 59/95\n",
      "2/2 [==============================] - 0s 6ms/step - loss: 12.0142 - mae: 12.0142\n",
      "Epoch 60/95\n",
      "2/2 [==============================] - 0s 6ms/step - loss: 9.8675 - mae: 9.8675\n",
      "Epoch 61/95\n",
      "2/2 [==============================] - 0s 6ms/step - loss: 16.8363 - mae: 16.8363\n",
      "Epoch 62/95\n",
      "2/2 [==============================] - 0s 5ms/step - loss: 9.9157 - mae: 9.9157\n",
      "Epoch 63/95\n",
      "2/2 [==============================] - 0s 8ms/step - loss: 14.6627 - mae: 14.6627\n",
      "Epoch 64/95\n",
      "2/2 [==============================] - 0s 6ms/step - loss: 9.6554 - mae: 9.6554\n",
      "Epoch 65/95\n",
      "2/2 [==============================] - 0s 6ms/step - loss: 15.4099 - mae: 15.4099\n",
      "Epoch 66/95\n",
      "2/2 [==============================] - 0s 8ms/step - loss: 10.5368 - mae: 10.5368\n",
      "Epoch 67/95\n",
      "2/2 [==============================] - 0s 7ms/step - loss: 15.6115 - mae: 15.6115\n",
      "Epoch 68/95\n",
      "2/2 [==============================] - 0s 6ms/step - loss: 7.2991 - mae: 7.2991\n",
      "Epoch 69/95\n",
      "2/2 [==============================] - 0s 6ms/step - loss: 19.1817 - mae: 19.1817\n",
      "Epoch 70/95\n",
      "2/2 [==============================] - 0s 5ms/step - loss: 9.7523 - mae: 9.7523\n",
      "Epoch 71/95\n",
      "2/2 [==============================] - 0s 5ms/step - loss: 17.8436 - mae: 17.8436\n",
      "Epoch 72/95\n",
      "2/2 [==============================] - 0s 5ms/step - loss: 11.2298 - mae: 11.2298\n",
      "Epoch 73/95\n",
      "2/2 [==============================] - 0s 9ms/step - loss: 14.0476 - mae: 14.0476\n",
      "Epoch 74/95\n",
      "2/2 [==============================] - 0s 12ms/step - loss: 13.3623 - mae: 13.3623\n",
      "Epoch 75/95\n",
      "2/2 [==============================] - 0s 8ms/step - loss: 16.0139 - mae: 16.0139\n",
      "Epoch 76/95\n",
      "2/2 [==============================] - 0s 7ms/step - loss: 9.0947 - mae: 9.0947\n",
      "Epoch 77/95\n",
      "2/2 [==============================] - 0s 6ms/step - loss: 21.6750 - mae: 21.6750\n",
      "Epoch 78/95\n",
      "2/2 [==============================] - 0s 8ms/step - loss: 18.4904 - mae: 18.4904\n",
      "Epoch 79/95\n",
      "2/2 [==============================] - 0s 7ms/step - loss: 14.0395 - mae: 14.0395\n",
      "Epoch 80/95\n",
      "2/2 [==============================] - 0s 7ms/step - loss: 24.1010 - mae: 24.1010\n",
      "Epoch 81/95\n",
      "2/2 [==============================] - 0s 6ms/step - loss: 9.8999 - mae: 9.8999\n",
      "Epoch 82/95\n",
      "2/2 [==============================] - 0s 9ms/step - loss: 13.0064 - mae: 13.0064\n",
      "Epoch 83/95\n",
      "2/2 [==============================] - 0s 10ms/step - loss: 17.0198 - mae: 17.0198\n",
      "Epoch 84/95\n",
      "2/2 [==============================] - 0s 7ms/step - loss: 11.7727 - mae: 11.7727\n",
      "Epoch 85/95\n",
      "2/2 [==============================] - 0s 6ms/step - loss: 24.7995 - mae: 24.7995\n",
      "Epoch 86/95\n",
      "2/2 [==============================] - 0s 7ms/step - loss: 17.6647 - mae: 17.6647\n",
      "Epoch 87/95\n",
      "2/2 [==============================] - 0s 6ms/step - loss: 10.0833 - mae: 10.0833\n",
      "Epoch 88/95\n",
      "2/2 [==============================] - 0s 7ms/step - loss: 23.4451 - mae: 23.4451\n",
      "Epoch 89/95\n",
      "2/2 [==============================] - 0s 8ms/step - loss: 6.1702 - mae: 6.1702\n",
      "Epoch 90/95\n",
      "2/2 [==============================] - 0s 6ms/step - loss: 18.7596 - mae: 18.7596\n",
      "Epoch 91/95\n",
      "2/2 [==============================] - 0s 7ms/step - loss: 13.5523 - mae: 13.5523\n",
      "Epoch 92/95\n",
      "2/2 [==============================] - 0s 6ms/step - loss: 9.8798 - mae: 9.8798\n",
      "Epoch 93/95\n",
      "2/2 [==============================] - 0s 6ms/step - loss: 15.0948 - mae: 15.0948\n",
      "Epoch 94/95\n",
      "2/2 [==============================] - 0s 7ms/step - loss: 17.6952 - mae: 17.6952\n",
      "Epoch 95/95\n",
      "2/2 [==============================] - 0s 8ms/step - loss: 17.0968 - mae: 17.0968\n"
     ]
    },
    {
     "data": {
      "text/plain": [
       "<keras.callbacks.History at 0x7fc28ad04ca0>"
      ]
     },
     "execution_count": 136,
     "metadata": {},
     "output_type": "execute_result"
    }
   ],
   "source": [
    "new_model_2_loaded.fit(X_train, y_train, epochs=95, verbose=1)"
   ]
  },
  {
   "cell_type": "code",
   "execution_count": 137,
   "id": "a5bc2ce9",
   "metadata": {},
   "outputs": [
    {
     "data": {
      "text/plain": [
       "array([[-53.040417]], dtype=float32)"
      ]
     },
     "execution_count": 137,
     "metadata": {},
     "output_type": "execute_result"
    }
   ],
   "source": [
    "new_model_2_hdf5.predict([-50])"
   ]
  },
  {
   "cell_type": "code",
   "execution_count": 138,
   "id": "0a0bcce5",
   "metadata": {},
   "outputs": [],
   "source": [
    "y_pred_2_loaded = new_model_2_loaded.predict(X_test)"
   ]
  },
  {
   "cell_type": "code",
   "execution_count": 139,
   "id": "d243c2d4",
   "metadata": {},
   "outputs": [
    {
     "data": {
      "image/png": "[encoded data removed]",
      "text/plain": [
       "<Figure size 1440x720 with 1 Axes>"
      ]
     },
     "metadata": {
      "needs_background": "light"
     },
     "output_type": "display_data"
    }
   ],
   "source": [
    "show(X_train, X_test, y_train, y_test, y_pred_2_loaded, 'model_2')"
   ]
  },
  {
   "cell_type": "markdown",
   "id": "5e2aa1ec",
   "metadata": {},
   "source": [
    "## Loading Weights for model 2"
   ]
  },
  {
   "cell_type": "code",
   "execution_count": 140,
   "id": "4586f9b7",
   "metadata": {},
   "outputs": [
    {
     "ename": "NameError",
     "evalue": "name 'model_W' is not defined",
     "output_type": "error",
     "traceback": [
      "\u001b[0;31m---------------------------------------------------------------------------\u001b[0m",
      "\u001b[0;31mNameError\u001b[0m                                 Traceback (most recent call last)",
      "Input \u001b[0;32mIn [140]\u001b[0m, in \u001b[0;36m<cell line: 1>\u001b[0;34m()\u001b[0m\n\u001b[0;32m----> 1\u001b[0m \u001b[38;5;28;01mdel\u001b[39;00m model_W\n\u001b[1;32m      2\u001b[0m tf\u001b[38;5;241m.\u001b[39mrandom\u001b[38;5;241m.\u001b[39mset_seed(\u001b[38;5;241m42\u001b[39m)\n\u001b[1;32m      3\u001b[0m model_W \u001b[38;5;241m=\u001b[39m tf\u001b[38;5;241m.\u001b[39mkeras\u001b[38;5;241m.\u001b[39mSequential([\n\u001b[1;32m      4\u001b[0m     tf\u001b[38;5;241m.\u001b[39mkeras\u001b[38;5;241m.\u001b[39mlayers\u001b[38;5;241m.\u001b[39mDense(\u001b[38;5;241m100\u001b[39m, input_shape\u001b[38;5;241m=\u001b[39m[\u001b[38;5;241m1\u001b[39m]),\n\u001b[1;32m      5\u001b[0m     tf\u001b[38;5;241m.\u001b[39mkeras\u001b[38;5;241m.\u001b[39mlayers\u001b[38;5;241m.\u001b[39mDense(\u001b[38;5;241m1\u001b[39m)\n\u001b[1;32m      6\u001b[0m ])\n",
      "\u001b[0;31mNameError\u001b[0m: name 'model_W' is not defined"
     ]
    }
   ],
   "source": [
    "del model_W\n",
    "tf.random.set_seed(42)\n",
    "model_W = tf.keras.Sequential([\n",
    "    tf.keras.layers.Dense(100, input_shape=[1]),\n",
    "    tf.keras.layers.Dense(1)\n",
    "])\n",
    "\n",
    "model_W.compile(loss=tf.keras.losses.mae,\n",
    "               optimizer=tf.keras.optimizers.SGD(learning_rate=0.00001),\n",
    "               metrics=['mae'])"
   ]
  },
  {
   "cell_type": "code",
   "execution_count": null,
   "id": "ce5044cd",
   "metadata": {},
   "outputs": [],
   "source": [
    "model_W.load_weights(checkpoint_path)"
   ]
  },
  {
   "cell_type": "code",
   "execution_count": null,
   "id": "c0829d4a",
   "metadata": {},
   "outputs": [],
   "source": [
    "model_W.predict([-50])"
   ]
  },
  {
   "cell_type": "code",
   "execution_count": null,
   "id": "d7b5aa62",
   "metadata": {},
   "outputs": [],
   "source": [
    "model_W.fit(X_train, y_train, epochs=50, verbose=0)"
   ]
  },
  {
   "cell_type": "code",
   "execution_count": null,
   "id": "38d84523",
   "metadata": {},
   "outputs": [],
   "source": [
    "model_W.predict([-50])"
   ]
  },
  {
   "cell_type": "code",
   "execution_count": null,
   "id": "14854ee4",
   "metadata": {},
   "outputs": [],
   "source": [
    "y_pred_2_W = model_W.predict(X_test)"
   ]
  },
  {
   "cell_type": "code",
   "execution_count": null,
   "id": "8cda69d8",
   "metadata": {},
   "outputs": [],
   "source": [
    "show(X_train, X_test, y_train, y_test, y_pred_2_W, 'model_2')"
   ]
  },
  {
   "cell_type": "code",
   "execution_count": null,
   "id": "6be8de96",
   "metadata": {},
   "outputs": [],
   "source": []
  }
 ],
 "metadata": {
  "kernelspec": {
   "display_name": "Python 3 (ipykernel)",
   "language": "python",
   "name": "python3"
  },
  "language_info": {
   "codemirror_mode": {
    "name": "ipython",
    "version": 3
   },
   "file_extension": ".py",
   "mimetype": "text/x-python",
   "name": "python",
   "nbconvert_exporter": "python",
   "pygments_lexer": "ipython3",
   "version": "3.10.6"
  }
 },
 "nbformat": 4,
 "nbformat_minor": 5
}
