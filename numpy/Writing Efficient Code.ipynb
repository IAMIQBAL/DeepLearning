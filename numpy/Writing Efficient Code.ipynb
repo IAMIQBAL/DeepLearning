{
 "cells": [
  {
   "cell_type": "code",
   "execution_count": 1,
   "id": "0c5c9880",
   "metadata": {},
   "outputs": [],
   "source": [
    "import numpy as np"
   ]
  },
  {
   "cell_type": "markdown",
   "id": "ca6483c9",
   "metadata": {},
   "source": [
    "#### GOAL\n",
    "- How to write clean, fast and efficient Python code\n",
    "- How to profile your code for bottlenecks\n",
    "- How to eliminate bottlenecks and bad design patterns\n",
    "\n",
    "![](efficient_code.PNG)\n",
    "\n",
    "- <a href='https://peps.python.org/pep-0020/'>The Zen of Python<a>"
   ]
  },
  {
   "cell_type": "code",
   "execution_count": 1,
   "id": "ad4347f4",
   "metadata": {},
   "outputs": [
    {
     "name": "stdout",
     "output_type": "stream",
     "text": [
      "['Kramer', 'Elaine', 'George', 'Newman']\n"
     ]
    }
   ],
   "source": [
    "names = ['Jerry', 'Kramer', 'Elaine', 'George', 'Newman']\n",
    "\n",
    "# Non-Pythonic approach of printing the list\n",
    "i = 0\n",
    "lst = []\n",
    "while i < len(names):\n",
    "    if len(names[i]) >= 6:\n",
    "        lst.append(names[i])\n",
    "    i += 1\n",
    "print(lst)"
   ]
  },
  {
   "cell_type": "code",
   "execution_count": 5,
   "id": "8ea6a8e3",
   "metadata": {},
   "outputs": [
    {
     "name": "stdout",
     "output_type": "stream",
     "text": [
      "['Kramer', 'Elaine', 'George', 'Newman']\n"
     ]
    }
   ],
   "source": [
    "# More Pythonic approach of printing the list\n",
    "lst = []\n",
    "for i in names:\n",
    "    if len(i) >= 6:\n",
    "        lst.append(i)\n",
    "print(lst)"
   ]
  },
  {
   "cell_type": "code",
   "execution_count": 6,
   "id": "b7a21a6a",
   "metadata": {},
   "outputs": [
    {
     "name": "stdout",
     "output_type": "stream",
     "text": [
      "['Kramer', 'Elaine', 'George', 'Newman']\n"
     ]
    }
   ],
   "source": [
    "# Best Pythonic way\n",
    "lst = [name for name in names if len(name) >= 6]\n",
    "print(lst)"
   ]
  },
  {
   "cell_type": "markdown",
   "id": "30a2651e",
   "metadata": {},
   "source": [
    "### Building with built-ins\n",
    "- The Python Standard Library\n",
    "<br>\n",
    "\n",
    "![](builtin.PNG)"
   ]
  },
  {
   "cell_type": "code",
   "execution_count": 31,
   "id": "c0db104d",
   "metadata": {},
   "outputs": [
    {
     "name": "stdout",
     "output_type": "stream",
     "text": [
      "range():  [2, 4, 6, 8, 10]\n",
      "enumerate():  [(0, 'a'), (1, 'b'), (2, 'c'), (3, 'd')]\n",
      "enumerate(letters, 10):  [(10, 'a'), (11, 'b'), (12, 'c'), (13, 'd')]\n",
      "map():  [10, 2, 7]\n",
      "map() with lambda:  [110, 5, 46]\n",
      "range(0, 10, 2)\n",
      "[range(0, 10, 2)]\n",
      "Unpacked:  [0, 2, 4, 6, 8]\n"
     ]
    }
   ],
   "source": [
    "# range()\n",
    "even_num = range(2, 11, 2)\n",
    "print('range(): ', list(even_num))\n",
    "\n",
    "# enumerate(): Create an indexed list of objects\n",
    "letters = ['a', 'b', 'c', 'd']\n",
    "index_letters = enumerate(letters)\n",
    "print('enumerate(): ', list(index_letters))\n",
    "\n",
    "# enumerate() with start index passed\n",
    "st_letters = enumerate(letters, 10)\n",
    "print('enumerate(letters, 10): ', list(st_letters))\n",
    "\n",
    "# map(): Applies a function over an object\n",
    "num = [10.5, 2.2, 6.8]\n",
    "print('map(): ', list(map(round, num)))\n",
    "\n",
    "# map() and lambda (anonymous function)\n",
    "sqrd = map(round, list(map(lambda x: x ** 2, num)))\n",
    "print('map() with lambda: ', list(sqrd))\n",
    "\n",
    "# Unpacking with * operator\n",
    "nums = range(0, 10, 2)\n",
    "print(nums)\n",
    "print([nums])\n",
    "print('Unpacked: ', [*nums])"
   ]
  },
  {
   "cell_type": "code",
   "execution_count": 39,
   "id": "70704757",
   "metadata": {},
   "outputs": [
    {
     "name": "stdout",
     "output_type": "stream",
     "text": [
      "[('Pinkman', 0), ('Rick', 1), ('Walter', 2), ('Morty', 3)]\n",
      "[(0, 'Pinkman'), (1, 'Rick'), (2, 'Walter'), (3, 'Morty')]\n"
     ]
    }
   ],
   "source": [
    "# Enumerate Practice\n",
    "names = ['Pinkman', 'Rick', 'Walter', 'Morty']\n",
    "name_index = []\n",
    "for i, name in enumerate(names):\n",
    "    x = (name, i)\n",
    "    name_index.append(x)\n",
    "print(name_index)\n",
    "\n",
    "# Using List comprehension\n",
    "name_index = [(i, name) for i, name in enumerate(names)]\n",
    "print(name_index)"
   ]
  },
  {
   "cell_type": "code",
   "execution_count": 42,
   "id": "ee3dc372",
   "metadata": {},
   "outputs": [
    {
     "name": "stdout",
     "output_type": "stream",
     "text": [
      "['PINKMAN', 'RICK', 'WALTER', 'MORTY']\n"
     ]
    }
   ],
   "source": [
    "# Map practice\n",
    "name_upper = map(str.upper, names)\n",
    "print([*name_upper])"
   ]
  },
  {
   "cell_type": "code",
   "execution_count": 69,
   "id": "fdb4160d",
   "metadata": {},
   "outputs": [
    {
     "name": "stdout",
     "output_type": "stream",
     "text": [
      "Original Numbers: \n",
      " [[ 1  2  3  4  5]\n",
      " [ 6  7  8  9 10]]\n",
      "Second Row of Number:  [ 6  7  8  9 10]\n",
      "Elements greater than 6:  [ 7  8  9 10]\n",
      "Double: \n",
      " [[ 2  4  6  8 10]\n",
      " [12 14 16 18 20]]\n",
      "Replace 3rd Col or Numbers: \n",
      " [[ 1  2  4  4  5]\n",
      " [ 6  7  9  9 10]]\n"
     ]
    }
   ],
   "source": [
    "nums = np.array([[1,2,3,4,5],[6,7,8,9,10]])\n",
    "print('Original Numbers: \\n', nums)\n",
    "print('Second Row of Number: ', nums[1,:])\n",
    "print('Elements greater than 6: ', nums[nums > 6])\n",
    "print('Double: \\n', nums * 2)\n",
    "nums[:,2] = nums[:,2] + 1\n",
    "print('Replace 3rd Col or Numbers: \\n', nums)"
   ]
  },
  {
   "cell_type": "code",
   "execution_count": 87,
   "id": "b4db0583",
   "metadata": {},
   "outputs": [
    {
     "name": "stdout",
     "output_type": "stream",
     "text": [
      "Welcome Pinkman, You are 7 min late\n",
      "Welcome Rick, You are 17 min late\n",
      "Welcome Walter, You are 27 min late\n",
      "Welcome Morty, You are 37 min late\n"
     ]
    }
   ],
   "source": [
    "# Festivus Practice\n",
    "times = [*range(10, 50, 10)]\n",
    "np_times = np.array(times)\n",
    "new_times = np_times - 3\n",
    "\n",
    "guest_arrivals = [(names[i], time)for i, time in enumerate(new_times)]\n",
    "def welcome(name_time):\n",
    "    return ('Welcome {}, You are {} min late'.format(name_time[0], name_time[1]))\n",
    "\n",
    "welcome_guests = map(welcome, guest_arrivals)\n",
    "print(*[*welcome_guests], sep='\\n')"
   ]
  },
  {
   "cell_type": "markdown",
   "id": "ee486230",
   "metadata": {},
   "source": [
    "### Examining runtime\n",
    "\n",
    "#### Why time our code?\n",
    "- Helps pick optimal coding approach\n",
    "- Faster code == more efficient code\n",
    "\n",
    "#### How to time our code?\n",
    "- Magic commands: enhancements on top of normal python syntax\n",
    "- prefixed by the '%' characters\n",
    "- all commands at %lsmagic\n",
    "\n",
    "#### %timeit: Specifying number of runs/loops\n",
    "- Setting the # of runs (```-r```) and/or loops (```-n```)\n",
    "\n",
    "#### Using %timeit in cell magic mode\n",
    "- Cell magic (```%%timeit```)\n",
    "\n",
    "#### Saving %timeit output\n",
    "- Saving the output to a variable (```-o```)\n",
    "- ```times = %timeit -o rand_nums = np.random.rand(1000)```\n",
    "- All times: ```times.timings```\n",
    "- Best time: ```times.best```\n",
    "- Worst time: ```times.worst```\n",
    "\n",
    "#### Reference table of time orders of magnitude\n",
    "![](time_order_mag.PNG)"
   ]
  },
  {
   "cell_type": "code",
   "execution_count": 27,
   "id": "5889f467",
   "metadata": {},
   "outputs": [
    {
     "name": "stdout",
     "output_type": "stream",
     "text": [
      "56.8 µs ± 28.2 µs per loop (mean ± std. dev. of 2 runs, 10 loops each)\n"
     ]
    }
   ],
   "source": [
    "# Using %timeit\n",
    "# %timeit nums = np.random.rand(1000)\n",
    "%timeit -r2 -n10 nums = np.random.rand(1000)"
   ]
  },
  {
   "cell_type": "code",
   "execution_count": 29,
   "id": "f3cddba4",
   "metadata": {},
   "outputs": [
    {
     "name": "stdout",
     "output_type": "stream",
     "text": [
      "1.43 µs ± 540 ns per loop (mean ± std. dev. of 7 runs, 1,000,000 loops each)\n"
     ]
    }
   ],
   "source": [
    "%%timeit\n",
    "nums = []\n",
    "for x in range(10):\n",
    "    nums.append(x)"
   ]
  },
  {
   "cell_type": "code",
   "execution_count": 30,
   "id": "c148d18b",
   "metadata": {},
   "outputs": [
    {
     "name": "stdout",
     "output_type": "stream",
     "text": [
      "11.4 µs ± 105 ns per loop (mean ± std. dev. of 7 runs, 100,000 loops each)\n"
     ]
    }
   ],
   "source": [
    "times = %timeit -o nums = np.random.rand(1000)"
   ]
  },
  {
   "cell_type": "code",
   "execution_count": 40,
   "id": "ac1b2a27",
   "metadata": {},
   "outputs": [
    {
     "data": {
      "text/plain": [
       "([1.1526671999599785e-05,\n",
       "  1.1297710000071675e-05,\n",
       "  1.1509003000101074e-05,\n",
       "  1.1388274000491946e-05,\n",
       "  1.1569132999284192e-05,\n",
       "  1.128898199996911e-05,\n",
       "  1.148439300013706e-05],\n",
       " 1.128898199996911e-05,\n",
       " 1.1569132999284192e-05,\n",
       " 1.1437738142807833e-05)"
      ]
     },
     "execution_count": 40,
     "metadata": {},
     "output_type": "execute_result"
    }
   ],
   "source": [
    "times.timings, times.best, times.worst, times.average"
   ]
  },
  {
   "cell_type": "markdown",
   "id": "d60193e7",
   "metadata": {},
   "source": [
    "#### Formal name and Literal Syntax\n",
    "<br>\n",
    "\n",
    "![](form_lit_syn.PNG)"
   ]
  },
  {
   "cell_type": "code",
   "execution_count": 42,
   "id": "61365018",
   "metadata": {},
   "outputs": [
    {
     "name": "stdout",
     "output_type": "stream",
     "text": [
      "94 ns ± 9.25 ns per loop (mean ± std. dev. of 7 runs, 10,000,000 loops each)\n",
      "51.9 ns ± 7.96 ns per loop (mean ± std. dev. of 7 runs, 10,000,000 loops each)\n",
      "Difference: 42.07637571463627\n"
     ]
    }
   ],
   "source": [
    "# Examining runtime of Python built-in data structures\n",
    "t1 = %timeit -o l1 = list()\n",
    "t2 = %timeit -o l2 = []\n",
    "\n",
    "diff = (t1.average - t2.average) * (10**9)\n",
    "print('Difference: {}'.format(diff)) # Literal syntax is faster"
   ]
  },
  {
   "cell_type": "code",
   "execution_count": 44,
   "id": "6d06f6b5",
   "metadata": {},
   "outputs": [
    {
     "name": "stdout",
     "output_type": "stream",
     "text": [
      "2.14 µs ± 95.7 ns per loop (mean ± std. dev. of 7 runs, 100,000 loops each)\n",
      "522 ns ± 14.4 ns per loop (mean ± std. dev. of 7 runs, 1,000,000 loops each)\n"
     ]
    }
   ],
   "source": [
    "%timeit num_list_com = [num for num in range(51)]\n",
    "# print(num_list_com)\n",
    "\n",
    "%timeit num_unpack = [*range(51)]\n",
    "# print(num_unpack)"
   ]
  },
  {
   "cell_type": "markdown",
   "id": "a33b2659",
   "metadata": {},
   "source": [
    "### Reference: Datacamp"
   ]
  }
 ],
 "metadata": {
  "kernelspec": {
   "display_name": "Python 3 (ipykernel)",
   "language": "python",
   "name": "python3"
  },
  "language_info": {
   "codemirror_mode": {
    "name": "ipython",
    "version": 3
   },
   "file_extension": ".py",
   "mimetype": "text/x-python",
   "name": "python",
   "nbconvert_exporter": "python",
   "pygments_lexer": "ipython3",
   "version": "3.10.6"
  }
 },
 "nbformat": 4,
 "nbformat_minor": 5
}
